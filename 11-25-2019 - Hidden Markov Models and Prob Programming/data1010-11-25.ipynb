{
 "cells": [
  {
   "cell_type": "markdown",
   "metadata": {},
   "source": [
    "## Hidden Markov Models and Probabilistic Programming\n",
    "\n",
    "#### *25 November 2019*\n",
    "#### *DATA 1010*"
   ]
  },
  {
   "cell_type": "code",
   "execution_count": 2,
   "metadata": {
    "collapsed": false,
    "jupyter": {
     "outputs_hidden": false
    }
   },
   "outputs": [
    {
     "name": "stdout",
     "output_type": "stream",
     "text": [
      "\u001b[32m\u001b[1mActivating\u001b[22m\u001b[39m environment at `~/Data-1010-Lecture Notes/11-25-2019 - Hidden Markov Models and Prob Programming/Project.toml`\n"
     ]
    }
   ],
   "source": [
    "using Pkg; Pkg.activate(\".\")\n",
    "using Statistics, LinearAlgebra, Distributions, OffsetArrays, Random"
   ]
  },
  {
   "cell_type": "code",
   "execution_count": 3,
   "metadata": {
    "collapsed": true,
    "jupyter": {
     "outputs_hidden": true
    }
   },
   "outputs": [
    {
     "name": "stderr",
     "output_type": "stream",
     "text": [
      "┌ Info: Precompiling Plots [91a5bcdd-55d7-5caf-9e0b-520d859cae80]\n",
      "└ @ Base loading.jl:1242\n",
      "ERROR: LoadError: ArgumentError: Package NaNMath does not have Compat in its dependencies:\n",
      "- If you have NaNMath checked out for development and have\n",
      "  added Compat as a dependency but haven't updated your primary\n",
      "  environment's manifest file, try `Pkg.resolve()`.\n",
      "- Otherwise you may need to report an issue with NaNMath\n",
      "Stacktrace:\n",
      " [1] require(::Module, ::Symbol) at ./loading.jl:889\n",
      " [2] include at ./boot.jl:328 [inlined]\n",
      " [3] include_relative(::Module, ::String) at ./loading.jl:1094\n",
      " [4] include(::Module, ::String) at ./Base.jl:31\n",
      " [5] top-level scope at none:2\n",
      " [6] eval at ./boot.jl:330 [inlined]\n",
      " [7] eval(::Expr) at ./client.jl:432\n",
      " [8] top-level scope at ./none:3\n",
      "in expression starting at /opt/julia/packages/NaNMath/pEdac/src/NaNMath.jl:4\n",
      "ERROR: LoadError: Failed to precompile NaNMath [77ba4419-2d1f-58cd-9bb1-8ffee604a2e3] to /home/jovyan/.julia/compiled/v1.2/NaNMath/k9Y1O.ji.\n",
      "Stacktrace:\n",
      " [1] error(::String) at ./error.jl:33\n",
      " [2] compilecache(::Base.PkgId, ::String) at ./loading.jl:1253\n",
      " [3] _require(::Base.PkgId) at ./loading.jl:1013\n",
      " [4] require(::Base.PkgId) at ./loading.jl:911\n",
      " [5] require(::Module, ::Symbol) at ./loading.jl:906\n",
      " [6] include at ./boot.jl:328 [inlined]\n",
      " [7] include_relative(::Module, ::String) at ./loading.jl:1094\n",
      " [8] include(::Module, ::String) at ./Base.jl:31\n",
      " [9] top-level scope at none:2\n",
      " [10] eval at ./boot.jl:330 [inlined]\n",
      " [11] eval(::Expr) at ./client.jl:432\n",
      " [12] top-level scope at ./none:3\n",
      "in expression starting at /opt/julia/packages/Plots/h3o4c/src/Plots.jl:126\n"
     ]
    },
    {
     "ename": "ErrorException",
     "evalue": "Failed to precompile Plots [91a5bcdd-55d7-5caf-9e0b-520d859cae80] to /home/jovyan/.julia/compiled/v1.2/Plots/ld3vC.ji.",
     "output_type": "error",
     "traceback": [
      "Failed to precompile Plots [91a5bcdd-55d7-5caf-9e0b-520d859cae80] to /home/jovyan/.julia/compiled/v1.2/Plots/ld3vC.ji.",
      "",
      "Stacktrace:",
      " [1] error(::String) at ./error.jl:33",
      " [2] compilecache(::Base.PkgId, ::String) at ./loading.jl:1253",
      " [3] _require(::Base.PkgId) at ./loading.jl:1013",
      " [4] require(::Base.PkgId) at ./loading.jl:911",
      " [5] require(::Module, ::Symbol) at ./loading.jl:906",
      " [6] top-level scope at In[3]:1"
     ]
    }
   ],
   "source": [
    "using Plots\n",
    "gr(fontfamily = \"Palatino\", legend = false);"
   ]
  },
  {
   "cell_type": "markdown",
   "metadata": {},
   "source": [
    "---\n",
    "## EM (Frequentists' approach to evaluate parameters)"
   ]
  },
  {
   "cell_type": "markdown",
   "metadata": {},
   "source": [
    "---\n",
    "\n",
    "Today we'll continue looking at hidden Markov models. See the [notebook from last time](https://nbviewer.jupyter.org/github/data1010/problem-sets/blob/master/11-22/data1010-11-22.ipynb).\n",
    "\n",
    "## Problem 1\n",
    "\n",
    "Consider a hidden Markov model in which the Markov chain transition matrix takes the form \n",
    "\n",
    "$$\n",
    "P = \\left[ \\begin{matrix} q & 1-q \\\\ 1-q & q\\end{matrix} \\right]\n",
    "$$\n",
    "\n",
    "Let's assume further that the conditional distribution of each random variable $X_j$ is a Gaussian with mean Let's assume that the Gaussian distribution has unknown variance $\\sigma^2$. So we'll be trying to estimate $q$ and $\\sigma^2$ based on a series of observations of the values of $X$."
   ]
  },
  {
   "cell_type": "markdown",
   "metadata": {},
   "source": [
    "![](1.JPG)"
   ]
  },
  {
   "cell_type": "markdown",
   "metadata": {},
   "source": [
    "![](4.JPG)"
   ]
  },
  {
   "cell_type": "markdown",
   "metadata": {},
   "source": [
    "![](5.JPG)"
   ]
  },
  {
   "cell_type": "markdown",
   "metadata": {},
   "source": [
    "Note from above:  \n",
    "- \"a\": expected number of stays in Markov Chain  \n",
    "- \"b\": expected number of switches in Markov Chain\n",
    "- \"c\": cumulative square difference between Z and X"
   ]
  },
  {
   "cell_type": "markdown",
   "metadata": {},
   "source": [
    "![](6.JPG)"
   ]
  },
  {
   "cell_type": "code",
   "execution_count": 4,
   "metadata": {
    "collapsed": true,
    "jupyter": {
     "outputs_hidden": true
    }
   },
   "outputs": [
    {
     "ename": "UndefVarError",
     "evalue": "UndefVarError: plot not defined",
     "output_type": "error",
     "traceback": [
      "UndefVarError: plot not defined",
      "",
      "Stacktrace:",
      " [1] top-level scope at In[4]:17"
     ]
    }
   ],
   "source": [
    "q = 0.8\n",
    "σ² = 0.25\n",
    "P = OffsetArray([q 1-q; 1-q q], 0:1, 0:1)\n",
    "\n",
    "Random.seed!(1)\n",
    "\n",
    "function markov_chain(P, n)\n",
    "    Z = [0]\n",
    "    for i in 1:n-1\n",
    "        current_state = Z[end]\n",
    "        push!(Z, rand(Bernoulli(P[current_state, 0])) ? 0 : 1)\n",
    "    end\n",
    "    Z\n",
    "end\n",
    "\n",
    "Z = markov_chain(P, 100)\n",
    "plot(Z, size = (500, 150), ylims = (-4, 4), title = \"original signal\", titlefont = 10)"
   ]
  },
  {
   "cell_type": "markdown",
   "metadata": {},
   "source": [
    "![](2.JPG)"
   ]
  },
  {
   "cell_type": "code",
   "execution_count": 5,
   "metadata": {
    "collapsed": true,
    "jupyter": {
     "outputs_hidden": true
    }
   },
   "outputs": [
    {
     "ename": "UndefVarError",
     "evalue": "UndefVarError: plot not defined",
     "output_type": "error",
     "traceback": [
      "UndefVarError: plot not defined",
      "",
      "Stacktrace:",
      " [1] top-level scope at In[5]:2"
     ]
    }
   ],
   "source": [
    "X = Z + √(σ²)*randn(100)\n",
    "plot(X, size = (500, 150), title = \"corrupted signal\", titlefont = 10, color = :DarkOrange, ylims = (-4, 4))"
   ]
  },
  {
   "cell_type": "markdown",
   "metadata": {},
   "source": [
    "![](3.JPG)"
   ]
  },
  {
   "cell_type": "markdown",
   "metadata": {},
   "source": [
    "Let's tidy things up a bit by making a new type for these hidden Markov model observations:"
   ]
  },
  {
   "cell_type": "code",
   "execution_count": 4,
   "metadata": {
    "collapsed": false,
    "jupyter": {
     "outputs_hidden": false
    }
   },
   "outputs": [
    {
     "data": {
      "text/plain": [
       "plot (generic function with 4 methods)"
      ]
     },
     "execution_count": 4,
     "metadata": {},
     "output_type": "execute_result"
    }
   ],
   "source": [
    "struct HMObservation\n",
    "    Z::Vector\n",
    "    X::Vector\n",
    "end\n",
    "\n",
    "function hidden_markov_draw(q::Real, σ²::Real)\n",
    "    P = OffsetArray([q 1-q; 1-q q], 0:1, 0:1)\n",
    "    Z = markov_chain(P, 100)\n",
    "    X = Z + √(σ²)*randn(100)\n",
    "    HMObservation(Z, X)\n",
    "end\n",
    "\n",
    "import Plots.plot\n",
    "function plot(H::HMObservation)\n",
    "    p = plot(H.Z, size = (500, 150), ylims = (-4, 4), label = \"original signal\")\n",
    "    plot!(p, H.X)\n",
    "    p\n",
    "end"
   ]
  },
  {
   "cell_type": "code",
   "execution_count": 5,
   "metadata": {
    "collapsed": false,
    "jupyter": {
     "outputs_hidden": false
    }
   },
   "outputs": [
    {
     "data": {
      "image/svg+xml": [
       "<?xml version=\"1.0\" encoding=\"utf-8\"?>\n",
       "<svg xmlns=\"http://www.w3.org/2000/svg\" xmlns:xlink=\"http://www.w3.org/1999/xlink\" width=\"500\" height=\"150\" viewBox=\"0 0 2000 600\">\n",
       "<defs>\n",
       "  <clipPath id=\"clip3000\">\n",
       "    <rect x=\"0\" y=\"0\" width=\"2000\" height=\"600\"/>\n",
       "  </clipPath>\n",
       "</defs>\n",
       "<polygon clip-path=\"url(#clip3000)\" points=\"\n",
       "0,600 2000,600 2000,0 0,0 \n",
       "  \" fill=\"#ffffff\" fill-rule=\"evenodd\" fill-opacity=\"1\"/>\n",
       "<defs>\n",
       "  <clipPath id=\"clip3001\">\n",
       "    <rect x=\"400\" y=\"0\" width=\"1401\" height=\"600\"/>\n",
       "  </clipPath>\n",
       "</defs>\n",
       "<polygon clip-path=\"url(#clip3000)\" points=\"\n",
       "138.228,514.632 1952.76,514.632 1952.76,47.2441 138.228,47.2441 \n",
       "  \" fill=\"#ffffff\" fill-rule=\"evenodd\" fill-opacity=\"1\"/>\n",
       "<defs>\n",
       "  <clipPath id=\"clip3002\">\n",
       "    <rect x=\"138\" y=\"47\" width=\"1816\" height=\"468\"/>\n",
       "  </clipPath>\n",
       "</defs>\n",
       "<polyline clip-path=\"url(#clip3002)\" style=\"stroke:#000000; stroke-width:2; stroke-opacity:0.1; fill:none\" points=\"\n",
       "  172.292,514.632 172.292,47.2441 \n",
       "  \"/>\n",
       "<polyline clip-path=\"url(#clip3002)\" style=\"stroke:#000000; stroke-width:2; stroke-opacity:0.1; fill:none\" points=\"\n",
       "  604.569,514.632 604.569,47.2441 \n",
       "  \"/>\n",
       "<polyline clip-path=\"url(#clip3002)\" style=\"stroke:#000000; stroke-width:2; stroke-opacity:0.1; fill:none\" points=\"\n",
       "  1036.85,514.632 1036.85,47.2441 \n",
       "  \"/>\n",
       "<polyline clip-path=\"url(#clip3002)\" style=\"stroke:#000000; stroke-width:2; stroke-opacity:0.1; fill:none\" points=\"\n",
       "  1469.12,514.632 1469.12,47.2441 \n",
       "  \"/>\n",
       "<polyline clip-path=\"url(#clip3002)\" style=\"stroke:#000000; stroke-width:2; stroke-opacity:0.1; fill:none\" points=\"\n",
       "  1901.4,514.632 1901.4,47.2441 \n",
       "  \"/>\n",
       "<polyline clip-path=\"url(#clip3002)\" style=\"stroke:#000000; stroke-width:2; stroke-opacity:0.1; fill:none\" points=\"\n",
       "  138.228,514.632 1952.76,514.632 \n",
       "  \"/>\n",
       "<polyline clip-path=\"url(#clip3002)\" style=\"stroke:#000000; stroke-width:2; stroke-opacity:0.1; fill:none\" points=\"\n",
       "  138.228,397.785 1952.76,397.785 \n",
       "  \"/>\n",
       "<polyline clip-path=\"url(#clip3002)\" style=\"stroke:#000000; stroke-width:2; stroke-opacity:0.1; fill:none\" points=\"\n",
       "  138.228,280.938 1952.76,280.938 \n",
       "  \"/>\n",
       "<polyline clip-path=\"url(#clip3002)\" style=\"stroke:#000000; stroke-width:2; stroke-opacity:0.1; fill:none\" points=\"\n",
       "  138.228,164.091 1952.76,164.091 \n",
       "  \"/>\n",
       "<polyline clip-path=\"url(#clip3002)\" style=\"stroke:#000000; stroke-width:2; stroke-opacity:0.1; fill:none\" points=\"\n",
       "  138.228,47.2441 1952.76,47.2441 \n",
       "  \"/>\n",
       "<polyline clip-path=\"url(#clip3000)\" style=\"stroke:#000000; stroke-width:4; stroke-opacity:1; fill:none\" points=\"\n",
       "  138.228,514.632 1952.76,514.632 \n",
       "  \"/>\n",
       "<polyline clip-path=\"url(#clip3000)\" style=\"stroke:#000000; stroke-width:4; stroke-opacity:1; fill:none\" points=\"\n",
       "  138.228,514.632 138.228,47.2441 \n",
       "  \"/>\n",
       "<polyline clip-path=\"url(#clip3000)\" style=\"stroke:#000000; stroke-width:4; stroke-opacity:1; fill:none\" points=\"\n",
       "  172.292,514.632 172.292,507.621 \n",
       "  \"/>\n",
       "<polyline clip-path=\"url(#clip3000)\" style=\"stroke:#000000; stroke-width:4; stroke-opacity:1; fill:none\" points=\"\n",
       "  604.569,514.632 604.569,507.621 \n",
       "  \"/>\n",
       "<polyline clip-path=\"url(#clip3000)\" style=\"stroke:#000000; stroke-width:4; stroke-opacity:1; fill:none\" points=\"\n",
       "  1036.85,514.632 1036.85,507.621 \n",
       "  \"/>\n",
       "<polyline clip-path=\"url(#clip3000)\" style=\"stroke:#000000; stroke-width:4; stroke-opacity:1; fill:none\" points=\"\n",
       "  1469.12,514.632 1469.12,507.621 \n",
       "  \"/>\n",
       "<polyline clip-path=\"url(#clip3000)\" style=\"stroke:#000000; stroke-width:4; stroke-opacity:1; fill:none\" points=\"\n",
       "  1901.4,514.632 1901.4,507.621 \n",
       "  \"/>\n",
       "<polyline clip-path=\"url(#clip3000)\" style=\"stroke:#000000; stroke-width:4; stroke-opacity:1; fill:none\" points=\"\n",
       "  138.228,514.632 165.446,514.632 \n",
       "  \"/>\n",
       "<polyline clip-path=\"url(#clip3000)\" style=\"stroke:#000000; stroke-width:4; stroke-opacity:1; fill:none\" points=\"\n",
       "  138.228,397.785 165.446,397.785 \n",
       "  \"/>\n",
       "<polyline clip-path=\"url(#clip3000)\" style=\"stroke:#000000; stroke-width:4; stroke-opacity:1; fill:none\" points=\"\n",
       "  138.228,280.938 165.446,280.938 \n",
       "  \"/>\n",
       "<polyline clip-path=\"url(#clip3000)\" style=\"stroke:#000000; stroke-width:4; stroke-opacity:1; fill:none\" points=\"\n",
       "  138.228,164.091 165.446,164.091 \n",
       "  \"/>\n",
       "<polyline clip-path=\"url(#clip3000)\" style=\"stroke:#000000; stroke-width:4; stroke-opacity:1; fill:none\" points=\"\n",
       "  138.228,47.2441 165.446,47.2441 \n",
       "  \"/>\n",
       "<g clip-path=\"url(#clip3000)\">\n",
       "<text style=\"fill:#000000; fill-opacity:1; font-family:Book Antiqua,Palatino,Palatino Linotype,Palatino LT STD,Georgia,serif; font-size:50px; text-anchor:middle;\" transform=\"rotate(0, 172.292, 566.632)\" x=\"172.292\" y=\"566.632\">0</text>\n",
       "</g>\n",
       "<g clip-path=\"url(#clip3000)\">\n",
       "<text style=\"fill:#000000; fill-opacity:1; font-family:Book Antiqua,Palatino,Palatino Linotype,Palatino LT STD,Georgia,serif; font-size:50px; text-anchor:middle;\" transform=\"rotate(0, 604.569, 566.632)\" x=\"604.569\" y=\"566.632\">25</text>\n",
       "</g>\n",
       "<g clip-path=\"url(#clip3000)\">\n",
       "<text style=\"fill:#000000; fill-opacity:1; font-family:Book Antiqua,Palatino,Palatino Linotype,Palatino LT STD,Georgia,serif; font-size:50px; text-anchor:middle;\" transform=\"rotate(0, 1036.85, 566.632)\" x=\"1036.85\" y=\"566.632\">50</text>\n",
       "</g>\n",
       "<g clip-path=\"url(#clip3000)\">\n",
       "<text style=\"fill:#000000; fill-opacity:1; font-family:Book Antiqua,Palatino,Palatino Linotype,Palatino LT STD,Georgia,serif; font-size:50px; text-anchor:middle;\" transform=\"rotate(0, 1469.12, 566.632)\" x=\"1469.12\" y=\"566.632\">75</text>\n",
       "</g>\n",
       "<g clip-path=\"url(#clip3000)\">\n",
       "<text style=\"fill:#000000; fill-opacity:1; font-family:Book Antiqua,Palatino,Palatino Linotype,Palatino LT STD,Georgia,serif; font-size:50px; text-anchor:middle;\" transform=\"rotate(0, 1901.4, 566.632)\" x=\"1901.4\" y=\"566.632\">100</text>\n",
       "</g>\n",
       "<g clip-path=\"url(#clip3000)\">\n",
       "<text style=\"fill:#000000; fill-opacity:1; font-family:Book Antiqua,Palatino,Palatino Linotype,Palatino LT STD,Georgia,serif; font-size:50px; text-anchor:end;\" transform=\"rotate(0, 118.228, 532.132)\" x=\"118.228\" y=\"532.132\">-4</text>\n",
       "</g>\n",
       "<g clip-path=\"url(#clip3000)\">\n",
       "<text style=\"fill:#000000; fill-opacity:1; font-family:Book Antiqua,Palatino,Palatino Linotype,Palatino LT STD,Georgia,serif; font-size:50px; text-anchor:end;\" transform=\"rotate(0, 118.228, 415.285)\" x=\"118.228\" y=\"415.285\">-2</text>\n",
       "</g>\n",
       "<g clip-path=\"url(#clip3000)\">\n",
       "<text style=\"fill:#000000; fill-opacity:1; font-family:Book Antiqua,Palatino,Palatino Linotype,Palatino LT STD,Georgia,serif; font-size:50px; text-anchor:end;\" transform=\"rotate(0, 118.228, 298.438)\" x=\"118.228\" y=\"298.438\">0</text>\n",
       "</g>\n",
       "<g clip-path=\"url(#clip3000)\">\n",
       "<text style=\"fill:#000000; fill-opacity:1; font-family:Book Antiqua,Palatino,Palatino Linotype,Palatino LT STD,Georgia,serif; font-size:50px; text-anchor:end;\" transform=\"rotate(0, 118.228, 181.591)\" x=\"118.228\" y=\"181.591\">2</text>\n",
       "</g>\n",
       "<g clip-path=\"url(#clip3000)\">\n",
       "<text style=\"fill:#000000; fill-opacity:1; font-family:Book Antiqua,Palatino,Palatino Linotype,Palatino LT STD,Georgia,serif; font-size:50px; text-anchor:end;\" transform=\"rotate(0, 118.228, 64.7441)\" x=\"118.228\" y=\"64.7441\">4</text>\n",
       "</g>\n",
       "<polyline clip-path=\"url(#clip3002)\" style=\"stroke:#009af9; stroke-width:4; stroke-opacity:1; fill:none\" points=\"\n",
       "  189.583,280.938 206.874,280.938 224.165,280.938 241.456,280.938 258.747,280.938 276.038,222.514 293.329,222.514 310.62,280.938 327.912,280.938 345.203,280.938 \n",
       "  362.494,280.938 379.785,280.938 397.076,222.514 414.367,222.514 431.658,222.514 448.949,222.514 466.24,222.514 483.531,222.514 500.822,222.514 518.114,222.514 \n",
       "  535.405,222.514 552.696,222.514 569.987,222.514 587.278,222.514 604.569,222.514 621.86,280.938 639.151,280.938 656.442,280.938 673.733,280.938 691.025,280.938 \n",
       "  708.316,280.938 725.607,280.938 742.898,280.938 760.189,280.938 777.48,280.938 794.771,222.514 812.062,222.514 829.353,222.514 846.644,222.514 863.936,222.514 \n",
       "  881.227,222.514 898.518,222.514 915.809,222.514 933.1,222.514 950.391,222.514 967.682,222.514 984.973,222.514 1002.26,222.514 1019.56,222.514 1036.85,280.938 \n",
       "  1054.14,280.938 1071.43,222.514 1088.72,222.514 1106.01,222.514 1123.3,222.514 1140.59,280.938 1157.88,280.938 1175.18,280.938 1192.47,280.938 1209.76,280.938 \n",
       "  1227.05,280.938 1244.34,280.938 1261.63,280.938 1278.92,280.938 1296.21,280.938 1313.5,222.514 1330.8,222.514 1348.09,222.514 1365.38,222.514 1382.67,280.938 \n",
       "  1399.96,280.938 1417.25,280.938 1434.54,280.938 1451.83,222.514 1469.12,222.514 1486.42,222.514 1503.71,222.514 1521,222.514 1538.29,222.514 1555.58,280.938 \n",
       "  1572.87,280.938 1590.16,222.514 1607.45,222.514 1624.74,222.514 1642.03,222.514 1659.33,222.514 1676.62,280.938 1693.91,222.514 1711.2,222.514 1728.49,222.514 \n",
       "  1745.78,280.938 1763.07,222.514 1780.36,222.514 1797.65,222.514 1814.95,222.514 1832.24,280.938 1849.53,280.938 1866.82,280.938 1884.11,280.938 1901.4,280.938 \n",
       "  \n",
       "  \"/>\n",
       "<polyline clip-path=\"url(#clip3002)\" style=\"stroke:#e26f46; stroke-width:4; stroke-opacity:1; fill:none\" points=\"\n",
       "  189.583,255.881 206.874,211.458 224.165,268.906 241.456,221.236 258.747,350.991 276.038,83.4367 293.329,94.59 310.62,156.496 327.912,303.586 345.203,294.499 \n",
       "  362.494,268.887 379.785,216.228 397.076,171.876 414.367,124.502 431.658,306.051 448.949,303.316 466.24,191.301 483.531,206.596 500.822,152.756 518.114,184.266 \n",
       "  535.405,243.011 552.696,415.304 569.987,294.482 587.278,190.733 604.569,217.92 621.86,388.947 639.151,196.714 656.442,287.234 673.733,329.386 691.025,406.396 \n",
       "  708.316,379.28 725.607,362.33 742.898,298.927 760.189,232.739 777.48,192.028 794.771,264.371 812.062,194.5 829.353,308.205 846.644,157.084 863.936,174.863 \n",
       "  881.227,222.106 898.518,257.036 915.809,186.429 933.1,285.629 950.391,254.527 967.682,256.255 984.973,149.3 1002.26,183.747 1019.56,279.99 1036.85,258.815 \n",
       "  1054.14,310.784 1071.43,207.184 1088.72,316.595 1106.01,326.214 1123.3,261.451 1140.59,168.95 1157.88,271.038 1175.18,325.513 1192.47,303.399 1209.76,292.48 \n",
       "  1227.05,216.783 1244.34,272.094 1261.63,282.234 1278.92,231.576 1296.21,274.525 1313.5,255.204 1330.8,257.539 1348.09,127.073 1365.38,207.321 1382.67,226.012 \n",
       "  1399.96,284.94 1417.25,281.013 1434.54,303.452 1451.83,219.935 1469.12,190.69 1486.42,243.95 1503.71,272.068 1521,180.392 1538.29,172.01 1555.58,260.278 \n",
       "  1572.87,311.924 1590.16,253.44 1607.45,142.978 1624.74,268.904 1642.03,266.976 1659.33,278.254 1676.62,428.382 1693.91,229.18 1711.2,337.017 1728.49,245.52 \n",
       "  1745.78,187.983 1763.07,206.837 1780.36,366.449 1797.65,133.065 1814.95,253.078 1832.24,246.853 1849.53,276.785 1866.82,316.586 1884.11,173.333 1901.4,297.327 \n",
       "  \n",
       "  \"/>\n",
       "</svg>\n"
      ]
     },
     "execution_count": 5,
     "metadata": {},
     "output_type": "execute_result"
    }
   ],
   "source": [
    "plot(hidden_markov_draw(0.8, 1.0))"
   ]
  },
  {
   "cell_type": "markdown",
   "metadata": {},
   "source": [
    "Let's see how Expectation-Maximization works out in this context. Remember that our goal is to find good parameters of the model (which in this case we will know since we generated the data ourselves) based on the observed corrupted signal.\n",
    "\n",
    "We begin by working out the likelihood (trigger warning: the amount of math notation is about to get downright comical. This is how it's done, and I'm not sure how feasible it is to come up with something better. Try to focus on the meaning of each component, and don't worry too much about the particular choices of how each function is written down. Consider it practice for getting what you need out of a research paper.)\n",
    "\n",
    "$$\n",
    "\\begin{align*}\n",
    "p(x_1, \\ldots, x_n, z_1, \\ldots, z_n) &=\n",
    "p(z_1)\\prod_{j=2}^n [q\\mathbf{1}_{z_j = z_{j-1}} +\n",
    "(1-q)\\mathbf{1}_{z_j \\neq z_{j-1}}]\\prod_{j=1}^n \\log\\left(\\frac{1}{\\sqrt{2\\pi \\sigma^2}}\n",
    "  e^{-\\frac{(x_j-z_j)^2}{2\\sigma^2}}\\right)\n",
    "\\end{align*}\n",
    "$$\n",
    "\n",
    "(a) Explain where each factor in the expression above comes from.\n",
    "\n",
    "(b) What would it mean for this function to have an exceptionally small value?\n",
    "\n",
    "\n"
   ]
  },
  {
   "cell_type": "code",
   "execution_count": null,
   "metadata": {
    "collapsed": false,
    "jupyter": {
     "outputs_hidden": false
    }
   },
   "outputs": [],
   "source": []
  },
  {
   "cell_type": "markdown",
   "metadata": {},
   "source": [
    "Now we take the log: \n",
    "\n",
    "$$\n",
    "\\begin{align*}\n",
    "&\\log(p(x_1, \\ldots, x_n, z_1, \\ldots, z_n)) =\n",
    "\\log(p(z_1)) + \\sum_{j=2}^n\n",
    "\\log([q\\mathbf{1}_{z_j = z_{j-1}} + (1-q)\\mathbf{1}_{z_j \\neq z_{j-1}}])\n",
    "+ \\sum_{j=1}^n \\log\\left(\\frac{1}{\\sqrt{2\\pi \\sigma^2}}\n",
    "  e^{-\\frac{(x_j-z_j)^2}{2\\sigma^2}}\\right) \\\\\n",
    "&= \\log(p(z_1)) + \\log(q)\\sum_{j=2}^n \\mathbf{1}_{z_j = z_{j-1}} +\n",
    "\\log(1-q) \\sum_{j=2}^n \\mathbf{1}_{z_j \\neq z_{j-1}} -\n",
    "\\frac{1}{2\\sigma^2}\\sum_{j=1}^n (x_j-z_j)^2 - \\frac{n}{2} \\log(2\\pi\\sigma^2).\n",
    "\\end{align*}\n",
    "$$\n",
    "\n",
    "And finally the expectation with respect to the conditional distribution of the $Z$ values given the observed $X$ values: \n",
    "\n",
    "$$\n",
    "\\begin{align*}\n",
    "&\\mathbb{E}\\left[\\log(p(Z_1))\\right] +\n",
    "\\log(q)\\mathbb{E}\\left[\\sum_{j=2}^n \\mathbf{1}_{Z_j = Z_{j-1}}\\right] +\n",
    "\\log(1-q) \\mathbb{E}\\left[\\sum_{j=2}^n \\mathbf{1}_{Z_j \\neq Z_{j-1}}\\right] -\n",
    "\\frac{1}{2\\sigma^2}\\mathbb{E}\\left[\\sum_{j=1}^n (x_j-Z_j)^2\\right] -\n",
    "\\mathbb{E}\\left[\\frac{n}{2} \\log(2\\pi\\sigma^2)\\right] \\\\\n",
    "&=\n",
    "\\log(p(Z_1)) +\n",
    "\\log(q)\\underbrace{\\mathbb{E}\\left[\\sum_{j=2}^n \\mathbf{1}_{Z_j = Z_{j-1}}\\right]}_{a} +\n",
    "\\log(1-q) \\underbrace{\\mathbb{E}\\left[\\sum_{j=2}^n \\mathbf{1}_{Z_j \\neq Z_{j-1}}\\right]}_{b} -\n",
    "\\frac{1}{2\\sigma^2}\\underbrace{\\mathbb{E}\\left[\\sum_{j=1}^n (x_j-Z_j)^2\\right]}_{c} -\n",
    "\\frac{n}{2} \\log(2\\pi\\sigma^2) \\\\\n",
    "&=\n",
    "\\log(p(Z_1)) + a\\log(q) + b\\log(1-q) - \\frac{c}{2\\sigma^2} -\n",
    "\\frac{n}{2}\\log(2\\pi\\sigma^2).\n",
    "\\end{align*}\n",
    "$$\n",
    "\n",
    "We can differentiate this expression with respect to $q$ and with respect to $\\sigma^2$ to find that \n",
    "\n",
    "$$\n",
    "\\begin{align*}\n",
    "q &= \\frac{a}{a+b} \\\\\n",
    "\\sigma^2 &= \\frac{c}{n}\n",
    "\\end{align*}\n",
    "$$\n",
    "\n",
    "These will be the equations we use to update the parameters at each step of the EM algorithm. The remaining challenge is to estimate $a$, $b$, and $c$."
   ]
  },
  {
   "cell_type": "code",
   "execution_count": null,
   "metadata": {
    "collapsed": false,
    "jupyter": {
     "outputs_hidden": false
    }
   },
   "outputs": [],
   "source": []
  },
  {
   "cell_type": "markdown",
   "metadata": {},
   "source": [
    "(c) Let's focus on $a$. Interpret its value. For which of the following observed $X$ values would it be larger? What are some strategies we could use for estimating it?"
   ]
  },
  {
   "cell_type": "markdown",
   "metadata": {},
   "source": [
    "<img src=\"corrupted1.svg\">\n",
    "\n",
    "<img src=\"corrupted2.svg\">"
   ]
  },
  {
   "cell_type": "markdown",
   "metadata": {},
   "source": [
    "Note for the graph below: Think of the conditional distribution of Z given X as a collection of samples drawn"
   ]
  },
  {
   "cell_type": "markdown",
   "metadata": {},
   "source": [
    "![](7.JPG)"
   ]
  },
  {
   "cell_type": "markdown",
   "metadata": {},
   "source": [
    "Note for graph below: Therefore, when we can think as sampling, the **estimated expected number of switches can be obtained by taking the mean of a big number of samples (Monte Carlo)**"
   ]
  },
  {
   "cell_type": "markdown",
   "metadata": {},
   "source": [
    "![](8.JPG)"
   ]
  },
  {
   "cell_type": "markdown",
   "metadata": {},
   "source": [
    "Note for graph below:   \n",
    "1. dash line corresponds to proposed state\n",
    "2. For the acceptance ratio, all of the other parts cancelled, we just need to take care of the state before and after"
   ]
  },
  {
   "cell_type": "markdown",
   "metadata": {},
   "source": [
    "![](9.JPG)"
   ]
  },
  {
   "cell_type": "markdown",
   "metadata": {},
   "source": [
    "Note for below: A concrete example. Since number of switches is not changed, the factor cancelled, therefore the acceptance ratio is less than 1."
   ]
  },
  {
   "cell_type": "markdown",
   "metadata": {},
   "source": [
    "![](10.JPG)"
   ]
  },
  {
   "cell_type": "markdown",
   "metadata": {},
   "source": [
    "The first graph has only one switch (or 3 or 5), but the second graph has a big number of switch (say 50)"
   ]
  },
  {
   "cell_type": "markdown",
   "metadata": {},
   "source": [
    "(d) Let's use a variation on Metropolis-Hastings where our proposal distribution suggests a change of a single random variable at a time, and furthermore we cycle through the random variables rather than choosing a random one each time. This is called **Gibbs** sampling. \n",
    "\n",
    "For $j$ strictly between 1 and $n$, find the conditional probability of $Z_j = 1$ given values for all of the other random variables."
   ]
  },
  {
   "cell_type": "markdown",
   "metadata": {},
   "source": [
    "(e) The script below contains a function called `gibbs_sampler` which does 75 passes through the 100 hidden random variables to draw an observation from their conditional distribution given the $X$'s. Run the code cell a few times to see how the hidden variables vary jointly in their conditional distribution given the observed signal. "
   ]
  },
  {
   "cell_type": "code",
   "execution_count": 6,
   "metadata": {
    "collapsed": false,
    "jupyter": {
     "outputs_hidden": false
    }
   },
   "outputs": [
    {
     "data": {
      "text/plain": [
       "em_algorithm"
      ]
     },
     "execution_count": 6,
     "metadata": {},
     "output_type": "execute_result"
    }
   ],
   "source": [
    "include(\"expectation-maximization.jl\")"
   ]
  },
  {
   "cell_type": "code",
   "execution_count": 7,
   "metadata": {
    "collapsed": false,
    "jupyter": {
     "outputs_hidden": false
    }
   },
   "outputs": [
    {
     "data": {
      "image/svg+xml": [
       "<?xml version=\"1.0\" encoding=\"utf-8\"?>\n",
       "<svg xmlns=\"http://www.w3.org/2000/svg\" xmlns:xlink=\"http://www.w3.org/1999/xlink\" width=\"500\" height=\"150\" viewBox=\"0 0 2000 600\">\n",
       "<defs>\n",
       "  <clipPath id=\"clip3400\">\n",
       "    <rect x=\"0\" y=\"0\" width=\"2000\" height=\"600\"/>\n",
       "  </clipPath>\n",
       "</defs>\n",
       "<polygon clip-path=\"url(#clip3400)\" points=\"\n",
       "0,600 2000,600 2000,0 0,0 \n",
       "  \" fill=\"#ffffff\" fill-rule=\"evenodd\" fill-opacity=\"1\"/>\n",
       "<defs>\n",
       "  <clipPath id=\"clip3401\">\n",
       "    <rect x=\"400\" y=\"0\" width=\"1401\" height=\"600\"/>\n",
       "  </clipPath>\n",
       "</defs>\n",
       "<polygon clip-path=\"url(#clip3400)\" points=\"\n",
       "138.228,514.632 1952.76,514.632 1952.76,47.2441 138.228,47.2441 \n",
       "  \" fill=\"#ffffff\" fill-rule=\"evenodd\" fill-opacity=\"1\"/>\n",
       "<defs>\n",
       "  <clipPath id=\"clip3402\">\n",
       "    <rect x=\"138\" y=\"47\" width=\"1816\" height=\"468\"/>\n",
       "  </clipPath>\n",
       "</defs>\n",
       "<polyline clip-path=\"url(#clip3402)\" style=\"stroke:#000000; stroke-width:2; stroke-opacity:0.1; fill:none\" points=\"\n",
       "  172.292,514.632 172.292,47.2441 \n",
       "  \"/>\n",
       "<polyline clip-path=\"url(#clip3402)\" style=\"stroke:#000000; stroke-width:2; stroke-opacity:0.1; fill:none\" points=\"\n",
       "  604.569,514.632 604.569,47.2441 \n",
       "  \"/>\n",
       "<polyline clip-path=\"url(#clip3402)\" style=\"stroke:#000000; stroke-width:2; stroke-opacity:0.1; fill:none\" points=\"\n",
       "  1036.85,514.632 1036.85,47.2441 \n",
       "  \"/>\n",
       "<polyline clip-path=\"url(#clip3402)\" style=\"stroke:#000000; stroke-width:2; stroke-opacity:0.1; fill:none\" points=\"\n",
       "  1469.12,514.632 1469.12,47.2441 \n",
       "  \"/>\n",
       "<polyline clip-path=\"url(#clip3402)\" style=\"stroke:#000000; stroke-width:2; stroke-opacity:0.1; fill:none\" points=\"\n",
       "  1901.4,514.632 1901.4,47.2441 \n",
       "  \"/>\n",
       "<polyline clip-path=\"url(#clip3402)\" style=\"stroke:#000000; stroke-width:2; stroke-opacity:0.1; fill:none\" points=\"\n",
       "  138.228,514.632 1952.76,514.632 \n",
       "  \"/>\n",
       "<polyline clip-path=\"url(#clip3402)\" style=\"stroke:#000000; stroke-width:2; stroke-opacity:0.1; fill:none\" points=\"\n",
       "  138.228,397.785 1952.76,397.785 \n",
       "  \"/>\n",
       "<polyline clip-path=\"url(#clip3402)\" style=\"stroke:#000000; stroke-width:2; stroke-opacity:0.1; fill:none\" points=\"\n",
       "  138.228,280.938 1952.76,280.938 \n",
       "  \"/>\n",
       "<polyline clip-path=\"url(#clip3402)\" style=\"stroke:#000000; stroke-width:2; stroke-opacity:0.1; fill:none\" points=\"\n",
       "  138.228,164.091 1952.76,164.091 \n",
       "  \"/>\n",
       "<polyline clip-path=\"url(#clip3402)\" style=\"stroke:#000000; stroke-width:2; stroke-opacity:0.1; fill:none\" points=\"\n",
       "  138.228,47.2441 1952.76,47.2441 \n",
       "  \"/>\n",
       "<polyline clip-path=\"url(#clip3400)\" style=\"stroke:#000000; stroke-width:4; stroke-opacity:1; fill:none\" points=\"\n",
       "  138.228,514.632 1952.76,514.632 \n",
       "  \"/>\n",
       "<polyline clip-path=\"url(#clip3400)\" style=\"stroke:#000000; stroke-width:4; stroke-opacity:1; fill:none\" points=\"\n",
       "  138.228,514.632 138.228,47.2441 \n",
       "  \"/>\n",
       "<polyline clip-path=\"url(#clip3400)\" style=\"stroke:#000000; stroke-width:4; stroke-opacity:1; fill:none\" points=\"\n",
       "  172.292,514.632 172.292,507.621 \n",
       "  \"/>\n",
       "<polyline clip-path=\"url(#clip3400)\" style=\"stroke:#000000; stroke-width:4; stroke-opacity:1; fill:none\" points=\"\n",
       "  604.569,514.632 604.569,507.621 \n",
       "  \"/>\n",
       "<polyline clip-path=\"url(#clip3400)\" style=\"stroke:#000000; stroke-width:4; stroke-opacity:1; fill:none\" points=\"\n",
       "  1036.85,514.632 1036.85,507.621 \n",
       "  \"/>\n",
       "<polyline clip-path=\"url(#clip3400)\" style=\"stroke:#000000; stroke-width:4; stroke-opacity:1; fill:none\" points=\"\n",
       "  1469.12,514.632 1469.12,507.621 \n",
       "  \"/>\n",
       "<polyline clip-path=\"url(#clip3400)\" style=\"stroke:#000000; stroke-width:4; stroke-opacity:1; fill:none\" points=\"\n",
       "  1901.4,514.632 1901.4,507.621 \n",
       "  \"/>\n",
       "<polyline clip-path=\"url(#clip3400)\" style=\"stroke:#000000; stroke-width:4; stroke-opacity:1; fill:none\" points=\"\n",
       "  138.228,514.632 165.446,514.632 \n",
       "  \"/>\n",
       "<polyline clip-path=\"url(#clip3400)\" style=\"stroke:#000000; stroke-width:4; stroke-opacity:1; fill:none\" points=\"\n",
       "  138.228,397.785 165.446,397.785 \n",
       "  \"/>\n",
       "<polyline clip-path=\"url(#clip3400)\" style=\"stroke:#000000; stroke-width:4; stroke-opacity:1; fill:none\" points=\"\n",
       "  138.228,280.938 165.446,280.938 \n",
       "  \"/>\n",
       "<polyline clip-path=\"url(#clip3400)\" style=\"stroke:#000000; stroke-width:4; stroke-opacity:1; fill:none\" points=\"\n",
       "  138.228,164.091 165.446,164.091 \n",
       "  \"/>\n",
       "<polyline clip-path=\"url(#clip3400)\" style=\"stroke:#000000; stroke-width:4; stroke-opacity:1; fill:none\" points=\"\n",
       "  138.228,47.2441 165.446,47.2441 \n",
       "  \"/>\n",
       "<g clip-path=\"url(#clip3400)\">\n",
       "<text style=\"fill:#000000; fill-opacity:1; font-family:Book Antiqua,Palatino,Palatino Linotype,Palatino LT STD,Georgia,serif; font-size:50px; text-anchor:middle;\" transform=\"rotate(0, 172.292, 566.632)\" x=\"172.292\" y=\"566.632\">0</text>\n",
       "</g>\n",
       "<g clip-path=\"url(#clip3400)\">\n",
       "<text style=\"fill:#000000; fill-opacity:1; font-family:Book Antiqua,Palatino,Palatino Linotype,Palatino LT STD,Georgia,serif; font-size:50px; text-anchor:middle;\" transform=\"rotate(0, 604.569, 566.632)\" x=\"604.569\" y=\"566.632\">25</text>\n",
       "</g>\n",
       "<g clip-path=\"url(#clip3400)\">\n",
       "<text style=\"fill:#000000; fill-opacity:1; font-family:Book Antiqua,Palatino,Palatino Linotype,Palatino LT STD,Georgia,serif; font-size:50px; text-anchor:middle;\" transform=\"rotate(0, 1036.85, 566.632)\" x=\"1036.85\" y=\"566.632\">50</text>\n",
       "</g>\n",
       "<g clip-path=\"url(#clip3400)\">\n",
       "<text style=\"fill:#000000; fill-opacity:1; font-family:Book Antiqua,Palatino,Palatino Linotype,Palatino LT STD,Georgia,serif; font-size:50px; text-anchor:middle;\" transform=\"rotate(0, 1469.12, 566.632)\" x=\"1469.12\" y=\"566.632\">75</text>\n",
       "</g>\n",
       "<g clip-path=\"url(#clip3400)\">\n",
       "<text style=\"fill:#000000; fill-opacity:1; font-family:Book Antiqua,Palatino,Palatino Linotype,Palatino LT STD,Georgia,serif; font-size:50px; text-anchor:middle;\" transform=\"rotate(0, 1901.4, 566.632)\" x=\"1901.4\" y=\"566.632\">100</text>\n",
       "</g>\n",
       "<g clip-path=\"url(#clip3400)\">\n",
       "<text style=\"fill:#000000; fill-opacity:1; font-family:Book Antiqua,Palatino,Palatino Linotype,Palatino LT STD,Georgia,serif; font-size:50px; text-anchor:end;\" transform=\"rotate(0, 118.228, 532.132)\" x=\"118.228\" y=\"532.132\">-4</text>\n",
       "</g>\n",
       "<g clip-path=\"url(#clip3400)\">\n",
       "<text style=\"fill:#000000; fill-opacity:1; font-family:Book Antiqua,Palatino,Palatino Linotype,Palatino LT STD,Georgia,serif; font-size:50px; text-anchor:end;\" transform=\"rotate(0, 118.228, 415.285)\" x=\"118.228\" y=\"415.285\">-2</text>\n",
       "</g>\n",
       "<g clip-path=\"url(#clip3400)\">\n",
       "<text style=\"fill:#000000; fill-opacity:1; font-family:Book Antiqua,Palatino,Palatino Linotype,Palatino LT STD,Georgia,serif; font-size:50px; text-anchor:end;\" transform=\"rotate(0, 118.228, 298.438)\" x=\"118.228\" y=\"298.438\">0</text>\n",
       "</g>\n",
       "<g clip-path=\"url(#clip3400)\">\n",
       "<text style=\"fill:#000000; fill-opacity:1; font-family:Book Antiqua,Palatino,Palatino Linotype,Palatino LT STD,Georgia,serif; font-size:50px; text-anchor:end;\" transform=\"rotate(0, 118.228, 181.591)\" x=\"118.228\" y=\"181.591\">2</text>\n",
       "</g>\n",
       "<g clip-path=\"url(#clip3400)\">\n",
       "<text style=\"fill:#000000; fill-opacity:1; font-family:Book Antiqua,Palatino,Palatino Linotype,Palatino LT STD,Georgia,serif; font-size:50px; text-anchor:end;\" transform=\"rotate(0, 118.228, 64.7441)\" x=\"118.228\" y=\"64.7441\">4</text>\n",
       "</g>\n",
       "<polyline clip-path=\"url(#clip3402)\" style=\"stroke:#009af9; stroke-width:4; stroke-opacity:1; fill:none\" points=\"\n",
       "  189.583,280.938 206.874,280.938 224.165,280.938 241.456,280.938 258.747,280.938 276.038,280.938 293.329,280.938 310.62,280.938 327.912,280.938 345.203,222.514 \n",
       "  362.494,222.514 379.785,222.514 397.076,222.514 414.367,222.514 431.658,222.514 448.949,222.514 466.24,222.514 483.531,222.514 500.822,222.514 518.114,280.938 \n",
       "  535.405,280.938 552.696,280.938 569.987,222.514 587.278,222.514 604.569,222.514 621.86,280.938 639.151,280.938 656.442,280.938 673.733,280.938 691.025,280.938 \n",
       "  708.316,280.938 725.607,280.938 742.898,280.938 760.189,280.938 777.48,280.938 794.771,280.938 812.062,280.938 829.353,280.938 846.644,222.514 863.936,280.938 \n",
       "  881.227,280.938 898.518,280.938 915.809,280.938 933.1,222.514 950.391,222.514 967.682,280.938 984.973,280.938 1002.26,280.938 1019.56,222.514 1036.85,280.938 \n",
       "  1054.14,280.938 1071.43,280.938 1088.72,222.514 1106.01,222.514 1123.3,222.514 1140.59,280.938 1157.88,280.938 1175.18,280.938 1192.47,280.938 1209.76,280.938 \n",
       "  1227.05,280.938 1244.34,280.938 1261.63,222.514 1278.92,222.514 1296.21,222.514 1313.5,222.514 1330.8,222.514 1348.09,222.514 1365.38,222.514 1382.67,222.514 \n",
       "  1399.96,222.514 1417.25,280.938 1434.54,280.938 1451.83,280.938 1469.12,222.514 1486.42,222.514 1503.71,222.514 1521,222.514 1538.29,222.514 1555.58,222.514 \n",
       "  1572.87,222.514 1590.16,222.514 1607.45,222.514 1624.74,222.514 1642.03,280.938 1659.33,222.514 1676.62,222.514 1693.91,222.514 1711.2,222.514 1728.49,222.514 \n",
       "  1745.78,222.514 1763.07,222.514 1780.36,222.514 1797.65,222.514 1814.95,280.938 1832.24,280.938 1849.53,280.938 1866.82,280.938 1884.11,280.938 1901.4,280.938 \n",
       "  \n",
       "  \"/>\n",
       "<polyline clip-path=\"url(#clip3402)\" style=\"stroke:#e26f46; stroke-width:4; stroke-opacity:1; fill:none\" points=\"\n",
       "  189.583,285.766 206.874,276.375 224.165,304.726 241.456,330.886 258.747,237.122 276.038,284.704 293.329,294.089 310.62,267.697 327.912,279.967 345.203,180.885 \n",
       "  362.494,234.159 379.785,197.236 397.076,267.059 414.367,223.053 431.658,240.912 448.949,210.846 466.24,232.64 483.531,218.666 500.822,243.332 518.114,262.497 \n",
       "  535.405,258.554 552.696,306.019 569.987,273.394 587.278,265.163 604.569,207.63 621.86,258.909 639.151,261.414 656.442,320.687 673.733,206.655 691.025,357.881 \n",
       "  708.316,276.559 725.607,329.394 742.898,361.229 760.189,293.15 777.48,264.326 794.771,247.226 812.062,295.121 829.353,258.286 846.644,258.852 863.936,328.458 \n",
       "  881.227,308.534 898.518,261.707 915.809,235.629 933.1,187.895 950.391,164.92 967.682,283.1 984.973,286.842 1002.26,265.105 1019.56,170.011 1036.85,248.995 \n",
       "  1054.14,250.856 1071.43,244.976 1088.72,234.082 1106.01,208.634 1123.3,203.859 1140.59,292.586 1157.88,283.285 1175.18,251.672 1192.47,301.528 1209.76,322.829 \n",
       "  1227.05,268.238 1244.34,283.631 1261.63,236.071 1278.92,158.604 1296.21,205.597 1313.5,249.235 1330.8,227.044 1348.09,220.741 1365.38,230.427 1382.67,219.271 \n",
       "  1399.96,203.737 1417.25,254.452 1434.54,278.404 1451.83,283.006 1469.12,186.008 1486.42,218.098 1503.71,212.14 1521,249.545 1538.29,229.324 1555.58,182.769 \n",
       "  1572.87,201.155 1590.16,208.53 1607.45,204.837 1624.74,185.212 1642.03,263.3 1659.33,219.094 1676.62,204.208 1693.91,213.36 1711.2,193.704 1728.49,207.716 \n",
       "  1745.78,197.047 1763.07,202.079 1780.36,163.809 1797.65,218.054 1814.95,303.954 1832.24,251.765 1849.53,295.409 1866.82,270.31 1884.11,261.21 1901.4,263.385 \n",
       "  \n",
       "  \"/>\n",
       "</svg>\n"
      ]
     },
     "execution_count": 7,
     "metadata": {},
     "output_type": "execute_result"
    }
   ],
   "source": [
    "θ = (q, σ²)\n",
    "plot(HMObservation(gibbs_sampler(X, θ), X))"
   ]
  },
  {
   "cell_type": "markdown",
   "metadata": {},
   "source": [
    "(f) The script also included a function called `estimate_a_b_c` which uses 100 draws from the conditional distribution of the $Z$'s given the $X$'s to approximate $a$, $b$, and $c$. What should it be doing with the 100 values it gets for `[a,b,c]` on those 100 draws? Guess approximate values of $a$, $b$, and $c$ before running the code cell."
   ]
  },
  {
   "cell_type": "code",
   "execution_count": 8,
   "metadata": {
    "collapsed": false,
    "jupyter": {
     "outputs_hidden": false
    }
   },
   "outputs": [
    {
     "data": {
      "text/plain": [
       "3-element Array{Float64,1}:\n",
       " 82.84            \n",
       " 16.16            \n",
       " 26.00626943123902"
      ]
     },
     "execution_count": 8,
     "metadata": {},
     "output_type": "execute_result"
    }
   ],
   "source": [
    "estimate_a_b_c(X, θ)"
   ]
  },
  {
   "cell_type": "markdown",
   "metadata": {},
   "source": [
    "(g) Finally, we can run the EM algorithm. "
   ]
  },
  {
   "cell_type": "code",
   "execution_count": 9,
   "metadata": {
    "collapsed": false,
    "jupyter": {
     "outputs_hidden": false
    },
    "scrolled": true
   },
   "outputs": [
    {
     "name": "stderr",
     "output_type": "stream",
     "text": [
      "\u001b[32mk = 222, [0.8774747474747475, 0.2652003958420473]\u001b[39mmWARNING: Some output was deleted.\n"
     ]
    }
   ],
   "source": [
    "em_algorithm(X)"
   ]
  },
  {
   "cell_type": "markdown",
   "metadata": {},
   "source": [
    "---\n",
    "\n",
    "# Probabilistic Programming (Beyasians' Approach to evaluate parameters, treat q and $\\sigma$ as RV as Z)"
   ]
  },
  {
   "cell_type": "markdown",
   "metadata": {},
   "source": [
    "Using MCMC to do Bayesian inference can be hard work, as we just saw. But the only thing the user really needs to specify are the priors, the structure of the model, and the sampler (e.g., in the example above, we used a Gibbs sampler with a bit-switching proposal distribution). The rest is calculation, which could in principle be handled internally. \n",
    "\n",
    "**Probabilistic programming** systems seek to automate Bayesian inference by allowing the user to specify model structure in the form of a *program*, choose samplers, and let the computer handle the rest. Here's an example with the data above:"
   ]
  },
  {
   "cell_type": "markdown",
   "metadata": {},
   "source": [
    "![](11.JPG)"
   ]
  },
  {
   "cell_type": "code",
   "execution_count": 11,
   "metadata": {
    "collapsed": false,
    "jupyter": {
     "outputs_hidden": false
    }
   },
   "outputs": [
    {
     "data": {
      "text/plain": [
       "HMM (generic function with 2 methods)"
      ]
     },
     "execution_count": 11,
     "metadata": {},
     "output_type": "execute_result"
    }
   ],
   "source": [
    "@model HMM(x) = begin\n",
    "    n = length(x)\n",
    "    z = tzeros(Int64, n)\n",
    "    q ~ Uniform(0, 1)\n",
    "    σ² ~ InverseGamma(1e-3, 1e-3)\n",
    "    P = OffsetArray([ q  1-q\n",
    "                     1-q  q ], 0:1, 0:1)\n",
    "    z[1] ~ DiscreteNonParametric(0:1, [0.5, 0.5])\n",
    "    x[1] ~ Normal(z[1], σ²)\n",
    "    for i in 2:n\n",
    "        z[i] ~ DiscreteNonParametric(0:1, collect(P[z[i-1],:]))\n",
    "        x[i] ~ Normal(z[i], σ²)\n",
    "    end\n",
    "end"
   ]
  },
  {
   "cell_type": "markdown",
   "metadata": {},
   "source": [
    "Next we choose samplers. In practice, Metropolis-Hastings with a naive proposal distribution can be very inefficient because the proposal it suggests often go in directions of much smaller probability density. Hamiltonian Monte Carlo differentiates (usually autodiffs) the density $f$ and uses some fairly advanced mathematical ideas to suggest moves which are much more likely to be in directions where the density isn't way smaller:\n",
    "\n",
    "<img src=\"hmc-figure.svg\">"
   ]
  },
  {
   "cell_type": "markdown",
   "metadata": {},
   "source": [
    "HMC is only appropriate for continuous random variables; other samplers are needed for discrete random variables like $Z_1, \\ldots, Z_n$. We'll use one called **particle Gibbs**, which keeps track of several values for each random variable at the same time. (Each of these values is conceived as a particle; hence the name.) \n",
    "\n",
    "We can combine HMC and PG into the same model by building a Gibbs sampler which uses HMC for the continuous variables and PG for the discrete ones:"
   ]
  },
  {
   "cell_type": "code",
   "execution_count": null,
   "metadata": {
    "collapsed": false,
    "jupyter": {
     "outputs_hidden": false
    }
   },
   "outputs": [],
   "source": [
    "# choose parameters for samplers\n",
    "# 0.05 is a step size ϵ, while 10 is n_leapfrog, which we won't get into\n",
    "hmc = HMC(0.05, 10, :q, :σ²)\n",
    "# 20 particles\n",
    "pg = PG(20, :z)\n",
    "G = Gibbs(hmc, pg)\n",
    "\n",
    "chains = sample(HMM(X), G, 10)"
   ]
  },
  {
   "cell_type": "markdown",
   "metadata": {},
   "source": [
    "Note that the probabilistic programming approach taken here is not the same as the EM approach taken above. Here we are treating $q$ and $\\sigma^2$ as Bayesian quantities to be estimated alongside the $Z$'s. For example, here are the values of $q$ found in the 10 runs sampled above:"
   ]
  },
  {
   "cell_type": "code",
   "execution_count": null,
   "metadata": {
    "collapsed": false,
    "jupyter": {
     "outputs_hidden": false
    }
   },
   "outputs": [],
   "source": [
    "get_params(chains)[:q].data"
   ]
  },
  {
   "cell_type": "markdown",
   "metadata": {
    "jupyter": {
     "outputs_hidden": false
    }
   },
   "source": [
    "--- \n",
    "## Summary"
   ]
  },
  {
   "cell_type": "markdown",
   "metadata": {},
   "source": [
    "![](12.JPG)"
   ]
  },
  {
   "cell_type": "code",
   "execution_count": null,
   "metadata": {},
   "outputs": [],
   "source": []
  }
 ],
 "metadata": {
  "jupytext": {
   "formats": "ipynb"
  },
  "kernelspec": {
   "display_name": "Julia 1.2.0",
   "language": "julia",
   "name": "julia-1.2"
  },
  "language_info": {
   "file_extension": ".jl",
   "mimetype": "application/julia",
   "name": "julia",
   "version": "1.2.0"
  }
 },
 "nbformat": 4,
 "nbformat_minor": 4
}
