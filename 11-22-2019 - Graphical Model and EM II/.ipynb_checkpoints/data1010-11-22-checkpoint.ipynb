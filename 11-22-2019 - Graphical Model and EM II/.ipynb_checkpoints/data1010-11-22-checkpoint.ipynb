{
 "cells": [
  {
   "cell_type": "markdown",
   "metadata": {},
   "source": [
    "## Graphical Models and Expectation-Maximization (II)\n",
    "\n",
    "#### *22 November 2019*\n",
    "#### *DATA 1010*"
   ]
  },
  {
   "cell_type": "code",
   "execution_count": 1,
   "metadata": {},
   "outputs": [
    {
     "name": "stdout",
     "output_type": "stream",
     "text": [
      "\u001b[32m\u001b[1m    Status\u001b[22m\u001b[39m `~/Data-1010-Lecture Notes/11-22-2019 - Graphical Model and EM II/Project.toml`\n",
      " \u001b[90m [91a5bcdd]\u001b[39m\u001b[37m Plots v0.27.0\u001b[39m\n"
     ]
    }
   ],
   "source": [
    "import Pkg;\n",
    "Pkg.status(\"Plots\")"
   ]
  },
  {
   "cell_type": "code",
   "execution_count": 9,
   "metadata": {},
   "outputs": [
    {
     "name": "stdout",
     "output_type": "stream",
     "text": [
      "\u001b[32m\u001b[1mActivating\u001b[22m\u001b[39m environment at `~/Data-1010-Lecture Notes/11-22-2019 - Graphical Model and EM II/Project.toml`\n"
     ]
    }
   ],
   "source": [
    "using Pkg\n",
    "Pkg.activate(\".\")"
   ]
  },
  {
   "cell_type": "code",
   "execution_count": 2,
   "metadata": {
    "collapsed": true,
    "jupyter": {
     "outputs_hidden": true
    }
   },
   "outputs": [
    {
     "name": "stderr",
     "output_type": "stream",
     "text": [
      "┌ Info: Precompiling Plots [91a5bcdd-55d7-5caf-9e0b-520d859cae80]\n",
      "└ @ Base loading.jl:1242\n",
      "ERROR: LoadError: ArgumentError: Package NaNMath does not have Compat in its dependencies:\n",
      "- If you have NaNMath checked out for development and have\n",
      "  added Compat as a dependency but haven't updated your primary\n",
      "  environment's manifest file, try `Pkg.resolve()`.\n",
      "- Otherwise you may need to report an issue with NaNMath\n",
      "Stacktrace:\n",
      " [1] require(::Module, ::Symbol) at ./loading.jl:889\n",
      " [2] include at ./boot.jl:328 [inlined]\n",
      " [3] include_relative(::Module, ::String) at ./loading.jl:1094\n",
      " [4] include(::Module, ::String) at ./Base.jl:31\n",
      " [5] top-level scope at none:2\n",
      " [6] eval at ./boot.jl:330 [inlined]\n",
      " [7] eval(::Expr) at ./client.jl:432\n",
      " [8] top-level scope at ./none:3\n",
      "in expression starting at /opt/julia/packages/NaNMath/pEdac/src/NaNMath.jl:4\n",
      "ERROR: LoadError: Failed to precompile NaNMath [77ba4419-2d1f-58cd-9bb1-8ffee604a2e3] to /home/jovyan/.julia/compiled/v1.2/NaNMath/k9Y1O.ji.\n",
      "Stacktrace:\n",
      " [1] error(::String) at ./error.jl:33\n",
      " [2] compilecache(::Base.PkgId, ::String) at ./loading.jl:1253\n",
      " [3] _require(::Base.PkgId) at ./loading.jl:1013\n",
      " [4] require(::Base.PkgId) at ./loading.jl:911\n",
      " [5] require(::Module, ::Symbol) at ./loading.jl:906\n",
      " [6] include at ./boot.jl:328 [inlined]\n",
      " [7] include_relative(::Module, ::String) at ./loading.jl:1094\n",
      " [8] include(::Module, ::String) at ./Base.jl:31\n",
      " [9] top-level scope at none:2\n",
      " [10] eval at ./boot.jl:330 [inlined]\n",
      " [11] eval(::Expr) at ./client.jl:432\n",
      " [12] top-level scope at ./none:3\n",
      "in expression starting at /opt/julia/packages/Plots/h3o4c/src/Plots.jl:126\n"
     ]
    },
    {
     "ename": "ErrorException",
     "evalue": "Failed to precompile Plots [91a5bcdd-55d7-5caf-9e0b-520d859cae80] to /home/jovyan/.julia/compiled/v1.2/Plots/ld3vC.ji.",
     "output_type": "error",
     "traceback": [
      "Failed to precompile Plots [91a5bcdd-55d7-5caf-9e0b-520d859cae80] to /home/jovyan/.julia/compiled/v1.2/Plots/ld3vC.ji.",
      "",
      "Stacktrace:",
      " [1] error(::String) at ./error.jl:33",
      " [2] compilecache(::Base.PkgId, ::String) at ./loading.jl:1253",
      " [3] _require(::Base.PkgId) at ./loading.jl:1013",
      " [4] require(::Base.PkgId) at ./loading.jl:911",
      " [5] require(::Module, ::Symbol) at ./loading.jl:906",
      " [6] top-level scope at In[2]:1"
     ]
    }
   ],
   "source": [
    "using Plots"
   ]
  },
  {
   "cell_type": "code",
   "execution_count": 3,
   "metadata": {},
   "outputs": [],
   "source": [
    "using OffsetArrays"
   ]
  },
  {
   "cell_type": "code",
   "execution_count": 4,
   "metadata": {
    "collapsed": false,
    "jupyter": {
     "outputs_hidden": false
    }
   },
   "outputs": [],
   "source": [
    "using Distributions, StatsBase"
   ]
  },
  {
   "cell_type": "markdown",
   "metadata": {},
   "source": [
    "*Introduction*. Last time we talked about Expectation-Maximization in the context of Gaussian mixture models. With that concrete example in mind, we will discuss the general EM algorithm for Bayes net inference. \n",
    "\n",
    "Consider a Bayesian network for which some of the random variables are observed, while others are hidden. Suppose that the conditional distributions in the network are specified in some parametric way. We will look for parameters which maximize the likelihood of the model with respect to the observed data as follows, beginning with an arbitrary initial guess for the parameter values: \n",
    "\n",
    "(1) Assuming the current parameter values, we find the conditional distribution of the hidden variables for each observation.  \n",
    "(2) With respect to that distribution over the hidden variables, we work out the *expected* log likelihood and find the parameters which maximize it.\n",
    "\n",
    "We repeat these steps to convergence."
   ]
  },
  {
   "cell_type": "markdown",
   "metadata": {},
   "source": [
    "![](1.JPG)"
   ]
  },
  {
   "cell_type": "markdown",
   "metadata": {},
   "source": [
    "Note from the above graph: $\\pi_i$ is the conditional expectation of Z given X, that is also the conditional density of Z given X for class purple (calculated like what we did for QDA)."
   ]
  },
  {
   "cell_type": "markdown",
   "metadata": {},
   "source": [
    "![](2.JPG)"
   ]
  },
  {
   "cell_type": "markdown",
   "metadata": {},
   "source": [
    "Same way we compute the $\\Sigma_0$, $\\Sigma_1$, $\\mu_0$. Note from the above graph, if the initial guess is bad or Bayes net is more complex, this specific algorithm maynot get the result of highest likelihood (this may only work for Gaussian Mixture). Therefore we need a more general one."
   ]
  },
  {
   "cell_type": "markdown",
   "metadata": {},
   "source": [
    "![](3.JPG)"
   ]
  },
  {
   "cell_type": "markdown",
   "metadata": {},
   "source": [
    "---\n",
    "\n",
    "## Problem 1\n",
    "\n",
    "Show that this algorithm generalizes the one we came up with last time for the Gaussian mixture model."
   ]
  },
  {
   "cell_type": "markdown",
   "metadata": {},
   "source": [
    "*Solution*. "
   ]
  },
  {
   "cell_type": "markdown",
   "metadata": {},
   "source": [
    "![](4.JPG)"
   ]
  },
  {
   "cell_type": "markdown",
   "metadata": {},
   "source": [
    "Note from above: to find the $\\alpha$ that maximizes this expression, we differentiate w.r.t the underscore part of the last line."
   ]
  },
  {
   "cell_type": "markdown",
   "metadata": {},
   "source": [
    "![](5.JPG)"
   ]
  },
  {
   "cell_type": "markdown",
   "metadata": {},
   "source": [
    "![](6.JPG)"
   ]
  },
  {
   "cell_type": "markdown",
   "metadata": {},
   "source": [
    "![](7.JPG)"
   ]
  },
  {
   "cell_type": "markdown",
   "metadata": {},
   "source": [
    "Note from above: we can get $\\mu_0$ and $\\Sigma_0$ that maximizes the likelihood in a similar way."
   ]
  },
  {
   "cell_type": "markdown",
   "metadata": {},
   "source": [
    "---\n",
    "\n",
    "Another common example of a Bayesian network is a **hidden Markov model**. The idea is that we have a Markov chain, but rather than getting to see its values directly, we see some other values which are corruptions of the actual values. "
   ]
  },
  {
   "cell_type": "markdown",
   "metadata": {},
   "source": [
    "![](8.JPG)"
   ]
  },
  {
   "cell_type": "markdown",
   "metadata": {},
   "source": [
    "Consider the following Markov chain Z. Come up with a way to estimate the transition matrix entries from the data."
   ]
  },
  {
   "cell_type": "code",
   "execution_count": 5,
   "metadata": {
    "collapsed": false,
    "jupyter": {
     "outputs_hidden": false
    }
   },
   "outputs": [
    {
     "data": {
      "text/plain": [
       "1×100 LinearAlgebra.Adjoint{Int64,Array{Int64,1}}:\n",
       " 0  1  1  0  1  0  1  1  0  1  1  1  1  …  1  1  0  1  0  1  1  1  1  0  1  1"
      ]
     },
     "execution_count": 5,
     "metadata": {},
     "output_type": "execute_result"
    }
   ],
   "source": [
    "# set the state of transition matrix to be 0 and 1\n",
    "P = OffsetArray([0.2 0.8\n",
    "                 1/3 2/3], 0:1, 0:1)\n",
    "\n",
    "n = 100\n",
    "\n",
    "function markov_chain(P, n)\n",
    "    Z = [0] # start with state 0\n",
    "    for i in 1:n-1\n",
    "        current_state = Z[end]\n",
    "        push!(Z, rand() < P[current_state, 0] ? 0 : 1)\n",
    "    end\n",
    "    Z\n",
    "end\n",
    "Z = markov_chain(P, n)\n",
    "Z'"
   ]
  },
  {
   "cell_type": "markdown",
   "metadata": {},
   "source": [
    "Now suppose that instead of getting to see $Z$, we only see Z plus a standard normal random variable (which is independent for every observation of $Z$): "
   ]
  },
  {
   "cell_type": "code",
   "execution_count": 6,
   "metadata": {
    "collapsed": false,
    "jupyter": {
     "outputs_hidden": false
    }
   },
   "outputs": [
    {
     "data": {
      "text/plain": [
       "1×100 LinearAlgebra.Adjoint{Float64,Array{Float64,1}}:\n",
       " -0.729265  1.80244  2.82272  0.892426  …  -1.01011  1.66794  0.224773"
      ]
     },
     "execution_count": 6,
     "metadata": {},
     "output_type": "execute_result"
    }
   ],
   "source": [
    "X = Z + randn(n)\n",
    "X' # the corrupted variable (Z is hidden, corrupted is not)"
   ]
  },
  {
   "cell_type": "code",
   "execution_count": 7,
   "metadata": {
    "collapsed": true,
    "jupyter": {
     "outputs_hidden": true
    }
   },
   "outputs": [
    {
     "ename": "UndefVarError",
     "evalue": "UndefVarError: plot not defined",
     "output_type": "error",
     "traceback": [
      "UndefVarError: plot not defined",
      "",
      "Stacktrace:",
      " [1] top-level scope at In[7]:1"
     ]
    }
   ],
   "source": [
    "plot(Z, size = (800, 200), ylims = (-4, 4), label = \"original signal\", titlefont = 10)\n",
    "plot!(X, size = (800, 200), ylims = (-4, 4), label = \"corrupted signal\", titlefont = 10)"
   ]
  },
  {
   "cell_type": "markdown",
   "metadata": {},
   "source": [
    "![](9.JPG)"
   ]
  },
  {
   "cell_type": "markdown",
   "metadata": {},
   "source": [
    "# Problem 2\n",
    "\n",
    "Draw a Bayes net diagram illustrating the relationship between $Z_1, Z_2, \\ldots, Z_n, X_1, X_2, \\ldots, X_n$. "
   ]
  },
  {
   "cell_type": "markdown",
   "metadata": {},
   "source": [
    "*Solution*. "
   ]
  },
  {
   "cell_type": "markdown",
   "metadata": {},
   "source": [
    "![](10.JPG)"
   ]
  },
  {
   "cell_type": "markdown",
   "metadata": {},
   "source": [
    "## Problem 3\n",
    "\n",
    "Consider the following observed values for $X$. \n",
    "\n",
    "(a) Try to guess the values of $Z$, and then check your guess by running the cell. Repeat a few times to get a feel for how accurately you can predict $X$ from $Z$. "
   ]
  },
  {
   "cell_type": "code",
   "execution_count": 16,
   "metadata": {
    "collapsed": false,
    "jupyter": {
     "outputs_hidden": false
    }
   },
   "outputs": [
    {
     "data": {
      "text/plain": [
       "1×4 LinearAlgebra.Adjoint{Float64,Array{Float64,1}}:\n",
       " -0.459662  2.90265  -0.426818  2.84795"
      ]
     },
     "execution_count": 16,
     "metadata": {},
     "output_type": "execute_result"
    }
   ],
   "source": [
    "Z = markov_chain(P, 4)\n",
    "X = Z + randn(4)\n",
    "X'"
   ]
  },
  {
   "cell_type": "code",
   "execution_count": 17,
   "metadata": {},
   "outputs": [
    {
     "data": {
      "text/plain": [
       "4-element Array{Int64,1}:\n",
       " 0\n",
       " 1\n",
       " 0\n",
       " 1"
      ]
     },
     "execution_count": 17,
     "metadata": {},
     "output_type": "execute_result"
    }
   ],
   "source": [
    "Z"
   ]
  },
  {
   "cell_type": "markdown",
   "metadata": {},
   "source": [
    "(b) In playing the game in part (a), would it be helpful to consider the $X$ values in all positions when guessing the value of $Z_3$? "
   ]
  },
  {
   "cell_type": "markdown",
   "metadata": {},
   "source": [
    "*Solution:* Yes. It would be helpful to consider all the values of X."
   ]
  },
  {
   "cell_type": "markdown",
   "metadata": {},
   "source": [
    "(c) Come up with an example (by adjusting the parameters of the model) where accounting for the other $X$ values is clearly important."
   ]
  },
  {
   "cell_type": "markdown",
   "metadata": {},
   "source": [
    "![](11.JPG)"
   ]
  },
  {
   "cell_type": "markdown",
   "metadata": {},
   "source": [
    "![](12.JPG)"
   ]
  },
  {
   "cell_type": "markdown",
   "metadata": {},
   "source": [
    "---\n",
    "## Summary"
   ]
  },
  {
   "cell_type": "markdown",
   "metadata": {},
   "source": [
    "![](13.JPG)"
   ]
  },
  {
   "cell_type": "markdown",
   "metadata": {},
   "source": [
    "![](14.JPG)"
   ]
  },
  {
   "cell_type": "markdown",
   "metadata": {},
   "source": [
    "---\n",
    "\n",
    "## Problem 4\n",
    "\n",
    "Let's simplify a bit by considering a model in which the Markov chain transition matrix takes the form \n",
    "\n",
    "$$\n",
    "P = \\left[ \\begin{matrix} q & 1-q \\\\ 1-q & q\\end{matrix} \\right]\n",
    "$$\n",
    "\n",
    "Let's assume that the Gaussian distribution has unknown variance $\\sigma^2$. So we'll be trying to estimate $q$ and $\\sigma^2$ based on a series of observations of the values of $X$."
   ]
  },
  {
   "cell_type": "code",
   "execution_count": 10,
   "metadata": {
    "collapsed": false,
    "jupyter": {
     "outputs_hidden": false
    }
   },
   "outputs": [
    {
     "data": {
      "image/svg+xml": [
       "<?xml version=\"1.0\" encoding=\"utf-8\"?>\n",
       "<svg xmlns=\"http://www.w3.org/2000/svg\" xmlns:xlink=\"http://www.w3.org/1999/xlink\" width=\"500\" height=\"100\" viewBox=\"0 0 2000 400\">\n",
       "<defs>\n",
       "  <clipPath id=\"clip5400\">\n",
       "    <rect x=\"0\" y=\"0\" width=\"2000\" height=\"400\"/>\n",
       "  </clipPath>\n",
       "</defs>\n",
       "<polygon clip-path=\"url(#clip5400)\" points=\"\n",
       "0,400 2000,400 2000,0 0,0 \n",
       "  \" fill=\"#ffffff\" fill-rule=\"evenodd\" fill-opacity=\"1\"/>\n",
       "<defs>\n",
       "  <clipPath id=\"clip5401\">\n",
       "    <rect x=\"400\" y=\"0\" width=\"1401\" height=\"400\"/>\n",
       "  </clipPath>\n",
       "</defs>\n",
       "<polygon clip-path=\"url(#clip5400)\" points=\"\n",
       "138.228,322.091 1952.76,322.091 1952.76,76.6388 138.228,76.6388 \n",
       "  \" fill=\"#ffffff\" fill-rule=\"evenodd\" fill-opacity=\"1\"/>\n",
       "<defs>\n",
       "  <clipPath id=\"clip5402\">\n",
       "    <rect x=\"138\" y=\"76\" width=\"1816\" height=\"246\"/>\n",
       "  </clipPath>\n",
       "</defs>\n",
       "<polyline clip-path=\"url(#clip5402)\" style=\"stroke:#000000; stroke-width:2; stroke-opacity:0.1; fill:none\" points=\"\n",
       "  172.292,322.091 172.292,76.6388 \n",
       "  \"/>\n",
       "<polyline clip-path=\"url(#clip5402)\" style=\"stroke:#000000; stroke-width:2; stroke-opacity:0.1; fill:none\" points=\"\n",
       "  604.569,322.091 604.569,76.6388 \n",
       "  \"/>\n",
       "<polyline clip-path=\"url(#clip5402)\" style=\"stroke:#000000; stroke-width:2; stroke-opacity:0.1; fill:none\" points=\"\n",
       "  1036.85,322.091 1036.85,76.6388 \n",
       "  \"/>\n",
       "<polyline clip-path=\"url(#clip5402)\" style=\"stroke:#000000; stroke-width:2; stroke-opacity:0.1; fill:none\" points=\"\n",
       "  1469.12,322.091 1469.12,76.6388 \n",
       "  \"/>\n",
       "<polyline clip-path=\"url(#clip5402)\" style=\"stroke:#000000; stroke-width:2; stroke-opacity:0.1; fill:none\" points=\"\n",
       "  1901.4,322.091 1901.4,76.6388 \n",
       "  \"/>\n",
       "<polyline clip-path=\"url(#clip5402)\" style=\"stroke:#000000; stroke-width:2; stroke-opacity:0.1; fill:none\" points=\"\n",
       "  138.228,322.091 1952.76,322.091 \n",
       "  \"/>\n",
       "<polyline clip-path=\"url(#clip5402)\" style=\"stroke:#000000; stroke-width:2; stroke-opacity:0.1; fill:none\" points=\"\n",
       "  138.228,260.728 1952.76,260.728 \n",
       "  \"/>\n",
       "<polyline clip-path=\"url(#clip5402)\" style=\"stroke:#000000; stroke-width:2; stroke-opacity:0.1; fill:none\" points=\"\n",
       "  138.228,199.365 1952.76,199.365 \n",
       "  \"/>\n",
       "<polyline clip-path=\"url(#clip5402)\" style=\"stroke:#000000; stroke-width:2; stroke-opacity:0.1; fill:none\" points=\"\n",
       "  138.228,138.002 1952.76,138.002 \n",
       "  \"/>\n",
       "<polyline clip-path=\"url(#clip5402)\" style=\"stroke:#000000; stroke-width:2; stroke-opacity:0.1; fill:none\" points=\"\n",
       "  138.228,76.6388 1952.76,76.6388 \n",
       "  \"/>\n",
       "<polyline clip-path=\"url(#clip5400)\" style=\"stroke:#000000; stroke-width:4; stroke-opacity:1; fill:none\" points=\"\n",
       "  138.228,322.091 1952.76,322.091 \n",
       "  \"/>\n",
       "<polyline clip-path=\"url(#clip5400)\" style=\"stroke:#000000; stroke-width:4; stroke-opacity:1; fill:none\" points=\"\n",
       "  138.228,322.091 138.228,76.6388 \n",
       "  \"/>\n",
       "<polyline clip-path=\"url(#clip5400)\" style=\"stroke:#000000; stroke-width:4; stroke-opacity:1; fill:none\" points=\"\n",
       "  172.292,322.091 172.292,318.409 \n",
       "  \"/>\n",
       "<polyline clip-path=\"url(#clip5400)\" style=\"stroke:#000000; stroke-width:4; stroke-opacity:1; fill:none\" points=\"\n",
       "  604.569,322.091 604.569,318.409 \n",
       "  \"/>\n",
       "<polyline clip-path=\"url(#clip5400)\" style=\"stroke:#000000; stroke-width:4; stroke-opacity:1; fill:none\" points=\"\n",
       "  1036.85,322.091 1036.85,318.409 \n",
       "  \"/>\n",
       "<polyline clip-path=\"url(#clip5400)\" style=\"stroke:#000000; stroke-width:4; stroke-opacity:1; fill:none\" points=\"\n",
       "  1469.12,322.091 1469.12,318.409 \n",
       "  \"/>\n",
       "<polyline clip-path=\"url(#clip5400)\" style=\"stroke:#000000; stroke-width:4; stroke-opacity:1; fill:none\" points=\"\n",
       "  1901.4,322.091 1901.4,318.409 \n",
       "  \"/>\n",
       "<polyline clip-path=\"url(#clip5400)\" style=\"stroke:#000000; stroke-width:4; stroke-opacity:1; fill:none\" points=\"\n",
       "  138.228,322.091 165.446,322.091 \n",
       "  \"/>\n",
       "<polyline clip-path=\"url(#clip5400)\" style=\"stroke:#000000; stroke-width:4; stroke-opacity:1; fill:none\" points=\"\n",
       "  138.228,260.728 165.446,260.728 \n",
       "  \"/>\n",
       "<polyline clip-path=\"url(#clip5400)\" style=\"stroke:#000000; stroke-width:4; stroke-opacity:1; fill:none\" points=\"\n",
       "  138.228,199.365 165.446,199.365 \n",
       "  \"/>\n",
       "<polyline clip-path=\"url(#clip5400)\" style=\"stroke:#000000; stroke-width:4; stroke-opacity:1; fill:none\" points=\"\n",
       "  138.228,138.002 165.446,138.002 \n",
       "  \"/>\n",
       "<polyline clip-path=\"url(#clip5400)\" style=\"stroke:#000000; stroke-width:4; stroke-opacity:1; fill:none\" points=\"\n",
       "  138.228,76.6388 165.446,76.6388 \n",
       "  \"/>\n",
       "<g clip-path=\"url(#clip5400)\">\n",
       "<text style=\"fill:#000000; fill-opacity:1; font-family:Book Antiqua,Palatino,Palatino Linotype,Palatino LT STD,Georgia,serif; font-size:50px; text-anchor:middle;\" transform=\"rotate(0, 172.292, 374.091)\" x=\"172.292\" y=\"374.091\">0</text>\n",
       "</g>\n",
       "<g clip-path=\"url(#clip5400)\">\n",
       "<text style=\"fill:#000000; fill-opacity:1; font-family:Book Antiqua,Palatino,Palatino Linotype,Palatino LT STD,Georgia,serif; font-size:50px; text-anchor:middle;\" transform=\"rotate(0, 604.569, 374.091)\" x=\"604.569\" y=\"374.091\">25</text>\n",
       "</g>\n",
       "<g clip-path=\"url(#clip5400)\">\n",
       "<text style=\"fill:#000000; fill-opacity:1; font-family:Book Antiqua,Palatino,Palatino Linotype,Palatino LT STD,Georgia,serif; font-size:50px; text-anchor:middle;\" transform=\"rotate(0, 1036.85, 374.091)\" x=\"1036.85\" y=\"374.091\">50</text>\n",
       "</g>\n",
       "<g clip-path=\"url(#clip5400)\">\n",
       "<text style=\"fill:#000000; fill-opacity:1; font-family:Book Antiqua,Palatino,Palatino Linotype,Palatino LT STD,Georgia,serif; font-size:50px; text-anchor:middle;\" transform=\"rotate(0, 1469.12, 374.091)\" x=\"1469.12\" y=\"374.091\">75</text>\n",
       "</g>\n",
       "<g clip-path=\"url(#clip5400)\">\n",
       "<text style=\"fill:#000000; fill-opacity:1; font-family:Book Antiqua,Palatino,Palatino Linotype,Palatino LT STD,Georgia,serif; font-size:50px; text-anchor:middle;\" transform=\"rotate(0, 1901.4, 374.091)\" x=\"1901.4\" y=\"374.091\">100</text>\n",
       "</g>\n",
       "<g clip-path=\"url(#clip5400)\">\n",
       "<text style=\"fill:#000000; fill-opacity:1; font-family:Book Antiqua,Palatino,Palatino Linotype,Palatino LT STD,Georgia,serif; font-size:50px; text-anchor:end;\" transform=\"rotate(0, 118.228, 339.591)\" x=\"118.228\" y=\"339.591\">-4</text>\n",
       "</g>\n",
       "<g clip-path=\"url(#clip5400)\">\n",
       "<text style=\"fill:#000000; fill-opacity:1; font-family:Book Antiqua,Palatino,Palatino Linotype,Palatino LT STD,Georgia,serif; font-size:50px; text-anchor:end;\" transform=\"rotate(0, 118.228, 278.228)\" x=\"118.228\" y=\"278.228\">-2</text>\n",
       "</g>\n",
       "<g clip-path=\"url(#clip5400)\">\n",
       "<text style=\"fill:#000000; fill-opacity:1; font-family:Book Antiqua,Palatino,Palatino Linotype,Palatino LT STD,Georgia,serif; font-size:50px; text-anchor:end;\" transform=\"rotate(0, 118.228, 216.865)\" x=\"118.228\" y=\"216.865\">0</text>\n",
       "</g>\n",
       "<g clip-path=\"url(#clip5400)\">\n",
       "<text style=\"fill:#000000; fill-opacity:1; font-family:Book Antiqua,Palatino,Palatino Linotype,Palatino LT STD,Georgia,serif; font-size:50px; text-anchor:end;\" transform=\"rotate(0, 118.228, 155.502)\" x=\"118.228\" y=\"155.502\">2</text>\n",
       "</g>\n",
       "<g clip-path=\"url(#clip5400)\">\n",
       "<text style=\"fill:#000000; fill-opacity:1; font-family:Book Antiqua,Palatino,Palatino Linotype,Palatino LT STD,Georgia,serif; font-size:50px; text-anchor:end;\" transform=\"rotate(0, 118.228, 94.1388)\" x=\"118.228\" y=\"94.1388\">4</text>\n",
       "</g>\n",
       "<g clip-path=\"url(#clip5400)\">\n",
       "<text style=\"fill:#000000; fill-opacity:1; font-family:Book Antiqua,Palatino,Palatino Linotype,Palatino LT STD,Georgia,serif; font-size:62px; text-anchor:middle;\" transform=\"rotate(0, 1045.49, 51.6)\" x=\"1045.49\" y=\"51.6\">original signal</text>\n",
       "</g>\n",
       "<polyline clip-path=\"url(#clip5402)\" style=\"stroke:#009af9; stroke-width:4; stroke-opacity:1; fill:none\" points=\"\n",
       "  189.583,199.365 206.874,199.365 224.165,199.365 241.456,199.365 258.747,199.365 276.038,168.683 293.329,199.365 310.62,199.365 327.912,199.365 345.203,199.365 \n",
       "  362.494,199.365 379.785,199.365 397.076,199.365 414.367,199.365 431.658,168.683 448.949,168.683 466.24,199.365 483.531,199.365 500.822,199.365 518.114,168.683 \n",
       "  535.405,168.683 552.696,199.365 569.987,199.365 587.278,199.365 604.569,199.365 621.86,199.365 639.151,199.365 656.442,168.683 673.733,168.683 691.025,199.365 \n",
       "  708.316,168.683 725.607,199.365 742.898,168.683 760.189,199.365 777.48,199.365 794.771,168.683 812.062,168.683 829.353,168.683 846.644,168.683 863.936,168.683 \n",
       "  881.227,168.683 898.518,168.683 915.809,168.683 933.1,168.683 950.391,199.365 967.682,199.365 984.973,199.365 1002.26,168.683 1019.56,199.365 1036.85,199.365 \n",
       "  1054.14,168.683 1071.43,168.683 1088.72,168.683 1106.01,199.365 1123.3,199.365 1140.59,168.683 1157.88,199.365 1175.18,168.683 1192.47,168.683 1209.76,168.683 \n",
       "  1227.05,168.683 1244.34,168.683 1261.63,199.365 1278.92,168.683 1296.21,168.683 1313.5,199.365 1330.8,168.683 1348.09,168.683 1365.38,168.683 1382.67,168.683 \n",
       "  1399.96,199.365 1417.25,199.365 1434.54,199.365 1451.83,199.365 1469.12,168.683 1486.42,168.683 1503.71,168.683 1521,168.683 1538.29,168.683 1555.58,168.683 \n",
       "  1572.87,168.683 1590.16,168.683 1607.45,168.683 1624.74,168.683 1642.03,168.683 1659.33,168.683 1676.62,168.683 1693.91,168.683 1711.2,199.365 1728.49,199.365 \n",
       "  1745.78,199.365 1763.07,199.365 1780.36,199.365 1797.65,199.365 1814.95,199.365 1832.24,199.365 1849.53,199.365 1866.82,168.683 1884.11,168.683 1901.4,168.683 \n",
       "  \n",
       "  \"/>\n",
       "</svg>\n"
      ]
     },
     "execution_count": 10,
     "metadata": {},
     "output_type": "execute_result"
    }
   ],
   "source": [
    "q = 0.8\n",
    "σ² = 2.25\n",
    "P = OffsetArray([q 1-q; 1-q q], 0:1, 0:1)\n",
    "Z = markov_chain(P, 100)\n",
    "plot(Z, size = (500, 100), ylims = (-4, 4), title = \"original signal\", titlefont = 10)"
   ]
  },
  {
   "cell_type": "code",
   "execution_count": 11,
   "metadata": {
    "collapsed": false,
    "jupyter": {
     "outputs_hidden": false
    }
   },
   "outputs": [
    {
     "data": {
      "image/svg+xml": [
       "<?xml version=\"1.0\" encoding=\"utf-8\"?>\n",
       "<svg xmlns=\"http://www.w3.org/2000/svg\" xmlns:xlink=\"http://www.w3.org/1999/xlink\" width=\"500\" height=\"100\" viewBox=\"0 0 2000 400\">\n",
       "<defs>\n",
       "  <clipPath id=\"clip5800\">\n",
       "    <rect x=\"0\" y=\"0\" width=\"2000\" height=\"400\"/>\n",
       "  </clipPath>\n",
       "</defs>\n",
       "<polygon clip-path=\"url(#clip5800)\" points=\"\n",
       "0,400 2000,400 2000,0 0,0 \n",
       "  \" fill=\"#ffffff\" fill-rule=\"evenodd\" fill-opacity=\"1\"/>\n",
       "<defs>\n",
       "  <clipPath id=\"clip5801\">\n",
       "    <rect x=\"400\" y=\"0\" width=\"1401\" height=\"400\"/>\n",
       "  </clipPath>\n",
       "</defs>\n",
       "<polygon clip-path=\"url(#clip5800)\" points=\"\n",
       "138.228,322.091 1952.76,322.091 1952.76,76.6388 138.228,76.6388 \n",
       "  \" fill=\"#ffffff\" fill-rule=\"evenodd\" fill-opacity=\"1\"/>\n",
       "<defs>\n",
       "  <clipPath id=\"clip5802\">\n",
       "    <rect x=\"138\" y=\"76\" width=\"1816\" height=\"246\"/>\n",
       "  </clipPath>\n",
       "</defs>\n",
       "<polyline clip-path=\"url(#clip5802)\" style=\"stroke:#000000; stroke-width:2; stroke-opacity:0.1; fill:none\" points=\"\n",
       "  172.292,322.091 172.292,76.6388 \n",
       "  \"/>\n",
       "<polyline clip-path=\"url(#clip5802)\" style=\"stroke:#000000; stroke-width:2; stroke-opacity:0.1; fill:none\" points=\"\n",
       "  604.569,322.091 604.569,76.6388 \n",
       "  \"/>\n",
       "<polyline clip-path=\"url(#clip5802)\" style=\"stroke:#000000; stroke-width:2; stroke-opacity:0.1; fill:none\" points=\"\n",
       "  1036.85,322.091 1036.85,76.6388 \n",
       "  \"/>\n",
       "<polyline clip-path=\"url(#clip5802)\" style=\"stroke:#000000; stroke-width:2; stroke-opacity:0.1; fill:none\" points=\"\n",
       "  1469.12,322.091 1469.12,76.6388 \n",
       "  \"/>\n",
       "<polyline clip-path=\"url(#clip5802)\" style=\"stroke:#000000; stroke-width:2; stroke-opacity:0.1; fill:none\" points=\"\n",
       "  1901.4,322.091 1901.4,76.6388 \n",
       "  \"/>\n",
       "<polyline clip-path=\"url(#clip5802)\" style=\"stroke:#000000; stroke-width:2; stroke-opacity:0.1; fill:none\" points=\"\n",
       "  138.228,281.198 1952.76,281.198 \n",
       "  \"/>\n",
       "<polyline clip-path=\"url(#clip5802)\" style=\"stroke:#000000; stroke-width:2; stroke-opacity:0.1; fill:none\" points=\"\n",
       "  138.228,215.63 1952.76,215.63 \n",
       "  \"/>\n",
       "<polyline clip-path=\"url(#clip5802)\" style=\"stroke:#000000; stroke-width:2; stroke-opacity:0.1; fill:none\" points=\"\n",
       "  138.228,150.062 1952.76,150.062 \n",
       "  \"/>\n",
       "<polyline clip-path=\"url(#clip5802)\" style=\"stroke:#000000; stroke-width:2; stroke-opacity:0.1; fill:none\" points=\"\n",
       "  138.228,84.4943 1952.76,84.4943 \n",
       "  \"/>\n",
       "<polyline clip-path=\"url(#clip5800)\" style=\"stroke:#000000; stroke-width:4; stroke-opacity:1; fill:none\" points=\"\n",
       "  138.228,322.091 1952.76,322.091 \n",
       "  \"/>\n",
       "<polyline clip-path=\"url(#clip5800)\" style=\"stroke:#000000; stroke-width:4; stroke-opacity:1; fill:none\" points=\"\n",
       "  138.228,322.091 138.228,76.6388 \n",
       "  \"/>\n",
       "<polyline clip-path=\"url(#clip5800)\" style=\"stroke:#000000; stroke-width:4; stroke-opacity:1; fill:none\" points=\"\n",
       "  172.292,322.091 172.292,318.409 \n",
       "  \"/>\n",
       "<polyline clip-path=\"url(#clip5800)\" style=\"stroke:#000000; stroke-width:4; stroke-opacity:1; fill:none\" points=\"\n",
       "  604.569,322.091 604.569,318.409 \n",
       "  \"/>\n",
       "<polyline clip-path=\"url(#clip5800)\" style=\"stroke:#000000; stroke-width:4; stroke-opacity:1; fill:none\" points=\"\n",
       "  1036.85,322.091 1036.85,318.409 \n",
       "  \"/>\n",
       "<polyline clip-path=\"url(#clip5800)\" style=\"stroke:#000000; stroke-width:4; stroke-opacity:1; fill:none\" points=\"\n",
       "  1469.12,322.091 1469.12,318.409 \n",
       "  \"/>\n",
       "<polyline clip-path=\"url(#clip5800)\" style=\"stroke:#000000; stroke-width:4; stroke-opacity:1; fill:none\" points=\"\n",
       "  1901.4,322.091 1901.4,318.409 \n",
       "  \"/>\n",
       "<polyline clip-path=\"url(#clip5800)\" style=\"stroke:#000000; stroke-width:4; stroke-opacity:1; fill:none\" points=\"\n",
       "  138.228,281.198 165.446,281.198 \n",
       "  \"/>\n",
       "<polyline clip-path=\"url(#clip5800)\" style=\"stroke:#000000; stroke-width:4; stroke-opacity:1; fill:none\" points=\"\n",
       "  138.228,215.63 165.446,215.63 \n",
       "  \"/>\n",
       "<polyline clip-path=\"url(#clip5800)\" style=\"stroke:#000000; stroke-width:4; stroke-opacity:1; fill:none\" points=\"\n",
       "  138.228,150.062 165.446,150.062 \n",
       "  \"/>\n",
       "<polyline clip-path=\"url(#clip5800)\" style=\"stroke:#000000; stroke-width:4; stroke-opacity:1; fill:none\" points=\"\n",
       "  138.228,84.4943 165.446,84.4943 \n",
       "  \"/>\n",
       "<g clip-path=\"url(#clip5800)\">\n",
       "<text style=\"fill:#000000; fill-opacity:1; font-family:Book Antiqua,Palatino,Palatino Linotype,Palatino LT STD,Georgia,serif; font-size:50px; text-anchor:middle;\" transform=\"rotate(0, 172.292, 374.091)\" x=\"172.292\" y=\"374.091\">0</text>\n",
       "</g>\n",
       "<g clip-path=\"url(#clip5800)\">\n",
       "<text style=\"fill:#000000; fill-opacity:1; font-family:Book Antiqua,Palatino,Palatino Linotype,Palatino LT STD,Georgia,serif; font-size:50px; text-anchor:middle;\" transform=\"rotate(0, 604.569, 374.091)\" x=\"604.569\" y=\"374.091\">25</text>\n",
       "</g>\n",
       "<g clip-path=\"url(#clip5800)\">\n",
       "<text style=\"fill:#000000; fill-opacity:1; font-family:Book Antiqua,Palatino,Palatino Linotype,Palatino LT STD,Georgia,serif; font-size:50px; text-anchor:middle;\" transform=\"rotate(0, 1036.85, 374.091)\" x=\"1036.85\" y=\"374.091\">50</text>\n",
       "</g>\n",
       "<g clip-path=\"url(#clip5800)\">\n",
       "<text style=\"fill:#000000; fill-opacity:1; font-family:Book Antiqua,Palatino,Palatino Linotype,Palatino LT STD,Georgia,serif; font-size:50px; text-anchor:middle;\" transform=\"rotate(0, 1469.12, 374.091)\" x=\"1469.12\" y=\"374.091\">75</text>\n",
       "</g>\n",
       "<g clip-path=\"url(#clip5800)\">\n",
       "<text style=\"fill:#000000; fill-opacity:1; font-family:Book Antiqua,Palatino,Palatino Linotype,Palatino LT STD,Georgia,serif; font-size:50px; text-anchor:middle;\" transform=\"rotate(0, 1901.4, 374.091)\" x=\"1901.4\" y=\"374.091\">100</text>\n",
       "</g>\n",
       "<g clip-path=\"url(#clip5800)\">\n",
       "<text style=\"fill:#000000; fill-opacity:1; font-family:Book Antiqua,Palatino,Palatino Linotype,Palatino LT STD,Georgia,serif; font-size:50px; text-anchor:end;\" transform=\"rotate(0, 118.228, 298.698)\" x=\"118.228\" y=\"298.698\">-2</text>\n",
       "</g>\n",
       "<g clip-path=\"url(#clip5800)\">\n",
       "<text style=\"fill:#000000; fill-opacity:1; font-family:Book Antiqua,Palatino,Palatino Linotype,Palatino LT STD,Georgia,serif; font-size:50px; text-anchor:end;\" transform=\"rotate(0, 118.228, 233.13)\" x=\"118.228\" y=\"233.13\">0</text>\n",
       "</g>\n",
       "<g clip-path=\"url(#clip5800)\">\n",
       "<text style=\"fill:#000000; fill-opacity:1; font-family:Book Antiqua,Palatino,Palatino Linotype,Palatino LT STD,Georgia,serif; font-size:50px; text-anchor:end;\" transform=\"rotate(0, 118.228, 167.562)\" x=\"118.228\" y=\"167.562\">2</text>\n",
       "</g>\n",
       "<g clip-path=\"url(#clip5800)\">\n",
       "<text style=\"fill:#000000; fill-opacity:1; font-family:Book Antiqua,Palatino,Palatino Linotype,Palatino LT STD,Georgia,serif; font-size:50px; text-anchor:end;\" transform=\"rotate(0, 118.228, 101.994)\" x=\"118.228\" y=\"101.994\">4</text>\n",
       "</g>\n",
       "<g clip-path=\"url(#clip5800)\">\n",
       "<text style=\"fill:#000000; fill-opacity:1; font-family:Book Antiqua,Palatino,Palatino Linotype,Palatino LT STD,Georgia,serif; font-size:62px; text-anchor:middle;\" transform=\"rotate(0, 1045.49, 51.6)\" x=\"1045.49\" y=\"51.6\">corrupted signal</text>\n",
       "</g>\n",
       "<polyline clip-path=\"url(#clip5802)\" style=\"stroke:#009af9; stroke-width:4; stroke-opacity:1; fill:none\" points=\"\n",
       "  189.583,235.882 206.874,222.053 224.165,251.597 241.456,219.815 258.747,187.491 276.038,187.637 293.329,203.818 310.62,220.672 327.912,156.543 345.203,181.133 \n",
       "  362.494,177.349 379.785,178.796 397.076,265.772 414.367,244.488 431.658,255.879 448.949,126.817 466.24,214.735 483.531,228.693 500.822,177.757 518.114,125.7 \n",
       "  535.405,171.957 552.696,171.432 569.987,199.105 587.278,292.818 604.569,245.101 621.86,147.456 639.151,293.666 656.442,208.294 673.733,220.657 691.025,232.553 \n",
       "  708.316,223.964 725.607,279.251 742.898,134.633 760.189,180.115 777.48,225.503 794.771,219.939 812.062,154.042 829.353,150.678 846.644,257.547 863.936,114.939 \n",
       "  881.227,204.005 898.518,138.594 915.809,180.025 933.1,126.377 950.391,210.841 967.682,211.932 984.973,228.38 1002.26,83.5856 1019.56,219.547 1036.85,270.723 \n",
       "  1054.14,203.402 1071.43,157.525 1088.72,193.752 1106.01,153.861 1123.3,315.144 1140.59,191.525 1157.88,159.935 1175.18,241.764 1192.47,229.531 1209.76,245.653 \n",
       "  1227.05,170.131 1244.34,136.453 1261.63,202.998 1278.92,104.009 1296.21,154.727 1313.5,153.168 1330.8,206.306 1348.09,234.189 1365.38,130.315 1382.67,210.711 \n",
       "  1399.96,301.753 1417.25,247.035 1434.54,278.835 1451.83,196.71 1469.12,245.088 1486.42,212.384 1503.71,168.993 1521,191.072 1538.29,159.586 1555.58,203.298 \n",
       "  1572.87,192.011 1590.16,230.017 1607.45,194.946 1624.74,186.901 1642.03,186.629 1659.33,113.53 1676.62,196.258 1693.91,259.022 1711.2,250.517 1728.49,200.317 \n",
       "  1745.78,171.921 1763.07,179.676 1780.36,200.198 1797.65,188.25 1814.95,235.789 1832.24,190.26 1849.53,134.19 1866.82,140.385 1884.11,243.081 1901.4,154.408 \n",
       "  \n",
       "  \"/>\n",
       "</svg>\n"
      ]
     },
     "execution_count": 11,
     "metadata": {},
     "output_type": "execute_result"
    }
   ],
   "source": [
    "X = Z + √(σ²)*randn(100)\n",
    "plot(X, size = (500, 100), title = \"corrupted signal\", titlefont = 10)"
   ]
  },
  {
   "cell_type": "markdown",
   "metadata": {},
   "source": [
    "Let's see how Expectation-Maximization works out in this context. We begin by working out the likelihood (trigger warning: the amount of math notation is about to get downright comical. This is how it's done, and I'm not sure how feasible it is to come up with something better. Try to focus on the meaning of each component, and don't worry too much about the particular choices of how each function is written down. Consider it practice for getting what you need out of a research paper.)\n",
    "\n",
    "$$\n",
    "\\begin{align*}\n",
    "p(x_1, \\ldots, x_n, z_1, \\ldots, z_n) &=\n",
    "p(z_1)\\prod_{k=2}^n [q\\mathbf{1}_{z_k = z_{k-1}} +\n",
    "(1-q)\\mathbf{1}_{z_k \\neq z_{k-1}}]\\prod_{k=1}^n \\left(\\frac{1}{\\sqrt{2\\pi \\sigma^2}}\n",
    "  e^{-\\frac{(x_k-z_k)^2}{2\\sigma^2}}\\right)\n",
    "\\end{align*}\n",
    "$$\n",
    "\n",
    "(a) Explain where each factor in the expression above comes from.\n",
    "\n",
    "(b) What would it mean for this function to have an exceptionally small value?"
   ]
  },
  {
   "cell_type": "markdown",
   "metadata": {},
   "source": []
  },
  {
   "cell_type": "markdown",
   "metadata": {},
   "source": [
    "Now we take the log: \n",
    "\n",
    "$$\n",
    "\\begin{align*}\n",
    "&\\log(p(x_1, \\ldots, x_n, z_1, \\ldots, z_n)) =\n",
    "\\log(p(z_1)) + \\sum_{k=2}^n\n",
    "\\log([q\\mathbf{1}_{z_k = z_{k-1}} + (1-q)\\mathbf{1}_{z_k \\neq z_{k-1}}])\n",
    "+ \\sum_{k=1}^n \\log\\left(\\frac{1}{\\sqrt{2\\pi \\sigma^2}}\n",
    "  e^{-\\frac{(x_k-z_k)^2}{2\\sigma^2}}\\right) \\\\\n",
    "&= \\log(p(z_1)) + \\log(q)\\sum_{k=2}^n \\mathbf{1}_{z_k = z_{k-1}} +\n",
    "\\log(1-q) \\sum_{k=2}^n \\mathbf{1}_{z_k \\neq z_{k-1}} -\n",
    "\\frac{1}{2\\sigma^2}\\sum_{k=1}^n (x_k-z_k)^2 - \\frac{n}{2} \\log(2\\pi\\sigma^2).\n",
    "\\end{align*}\n",
    "$$\n",
    "\n",
    "And finally the expectation with respect to the conditional distribution of the $Z$ values given the observed $X$ values: \n",
    "\n",
    "$$\n",
    "\\begin{align*}\n",
    "&\\mathbb{E}_{Z|X=x^*}^{\\theta_{k-1}}\\left[\\log(p(z_1))\\right] +\n",
    "\\log(q)\\mathbb{E}_{Z|X=x^*}^{\\theta_{k-1}}\\left[\\sum_{k=2}^n \\mathbf{1}_{z_k = z_{k-1}}\\right] +\n",
    "\\log(1-q) \\mathbb{E}_{Z|X=x^*}^{\\theta_{k-1}}\\left[\\sum_{k=2}^n \\mathbf{1}_{z_k \\neq z_{k-1}}\\right] -\n",
    "\\frac{1}{2\\sigma^2}\\mathbb{E}_{Z|X=x^*}^{\\theta_{k-1}}\\left[\\sum_{k=1}^n (x_k-z_k)^2\\right] -\n",
    "\\mathbb{E}_{Z|X=x^*}^{\\theta_{k-1}}\\left[\\frac{n}{2} \\log(2\\pi\\sigma^2)\\right] \\\\\n",
    "&=\n",
    "\\log(p(z_1)) +\n",
    "\\log(q)\\underbrace{\\mathbb{E}_{Z|X=x^*}^{\\theta_{k-1}}\\left[\\sum_{k=2}^n \\mathbf{1}_{z_k = z_{k-1}}\\right]}_{a} +\n",
    "\\log(1-q) \\underbrace{\\mathbb{E}_{Z|X=x^*}^{\\theta_{k-1}}\\left[\\sum_{k=2}^n \\mathbf{1}_{z_k \\neq z_{k-1}}\\right]}_{b} -\n",
    "\\frac{1}{2\\sigma^2}\\underbrace{\\mathbb{E}_{Z|X=x^*}^{\\theta_{k-1}}\\left[\\sum_{k=1}^n (x_k-z_k)^2\\right]}_{c} -\n",
    "\\frac{n}{2} \\log(2\\pi\\sigma^2) \\\\\n",
    "&=\n",
    "\\log(p(z_1)) + a\\log(q) + b\\log(1-q) - \\frac{c}{2\\sigma^2} -\n",
    "\\frac{n}{2}\\log(2\\pi\\sigma^2).\n",
    "\\end{align*}\n",
    "$$\n",
    "\n",
    "We can differentiate this expression with respect to $q$ and with respect to $\\sigma^2$ to find that \n",
    "\n",
    "$$\n",
    "\\begin{align*}\n",
    "q &= \\frac{a}{a+b} \\\\\n",
    "\\sigma^2 &= \\frac{c}{n}\n",
    "\\end{align*}\n",
    "$$\n",
    "\n",
    "So we'll be all set to implement the EM algorithm if we can evaluate or estimate the $a$, $b$, and $c$ values. "
   ]
  },
  {
   "cell_type": "markdown",
   "metadata": {},
   "source": [
    "(c) Let's focus on $a$. Interpret its value. What are some strategies we could use for estimating it?"
   ]
  },
  {
   "cell_type": "code",
   "execution_count": 7,
   "metadata": {
    "collapsed": false,
    "jupyter": {
     "outputs_hidden": false
    }
   },
   "outputs": [
    {
     "data": {
      "text/plain": [
       "em_algorithm"
      ]
     },
     "execution_count": 7,
     "metadata": {},
     "output_type": "execute_result"
    }
   ],
   "source": [
    "include(\"expectation-maximization.jl\")"
   ]
  },
  {
   "cell_type": "code",
   "execution_count": 8,
   "metadata": {
    "collapsed": false,
    "jupyter": {
     "outputs_hidden": false
    }
   },
   "outputs": [],
   "source": [
    "em_algorithm(X)"
   ]
  },
  {
   "cell_type": "code",
   "execution_count": null,
   "metadata": {
    "collapsed": false,
    "jupyter": {
     "outputs_hidden": false
    }
   },
   "outputs": [],
   "source": []
  }
 ],
 "metadata": {
  "jupytext": {
   "formats": "ipynb"
  },
  "kernelspec": {
   "display_name": "Julia 1.2.0",
   "language": "julia",
   "name": "julia-1.2"
  },
  "language_info": {
   "file_extension": ".jl",
   "mimetype": "application/julia",
   "name": "julia",
   "version": "1.2.0"
  }
 },
 "nbformat": 4,
 "nbformat_minor": 4
}
