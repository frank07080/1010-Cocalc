{
 "cells": [
  {
   "cell_type": "markdown",
   "metadata": {},
   "source": [
    "# Statistics Review: Point Estimation & Confidence Intervals\n",
    "\n",
    "#### *4 October 2019*\n",
    "#### *DATA 1010*"
   ]
  },
  {
   "cell_type": "code",
   "execution_count": 1,
   "metadata": {},
   "outputs": [],
   "source": [
    "using Plots, Distributions"
   ]
  },
  {
   "cell_type": "markdown",
   "metadata": {},
   "source": [
    "The central problem of statistics is to make inferences about a population or data-generating process based on the information in a finite sample drawn from the population. Last class we talked about kernel density estimation, which directly estimates the distribution. Today we'll talk about estimating values which boil the distribution down to a single number."
   ]
  },
  {
   "cell_type": "markdown",
   "metadata": {},
   "source": [
    "---\n",
    "\n",
    "**Point estimation** is the inference of a single real-valued feature of the distribution of the data-generating process (such as its mean, variance, or median)."
   ]
  },
  {
   "cell_type": "markdown",
   "metadata": {},
   "source": [
    "## Problem 1\n",
    "\n",
    "Run the code below to define a function called `mysteryRV` which can be called (with no arguments) to sample from an unknown distribution. Also defined is a function `check_mean` which can be called with a single argument to check whether the supplied value is close to the mean of the underlying distribution. Figure out how to ascertain the mean accurately enough to get `check_mean` to respond affirmatively. Repeat with `check_var` (also defined in \"mystery-distribution.jl\")."
   ]
  },
  {
   "cell_type": "code",
   "execution_count": 2,
   "metadata": {},
   "outputs": [
    {
     "data": {
      "text/plain": [
       "mysteryRV (generic function with 1 method)"
      ]
     },
     "execution_count": 2,
     "metadata": {},
     "output_type": "execute_result"
    }
   ],
   "source": [
    "include(\"mystery-distribution.jl\")"
   ]
  },
  {
   "cell_type": "code",
   "execution_count": 3,
   "metadata": {},
   "outputs": [
    {
     "data": {
      "text/plain": [
       "1.3150781975757784"
      ]
     },
     "execution_count": 3,
     "metadata": {},
     "output_type": "execute_result"
    }
   ],
   "source": [
    "mysteryRV()"
   ]
  },
  {
   "cell_type": "code",
   "execution_count": 4,
   "metadata": {},
   "outputs": [
    {
     "data": {
      "text/plain": [
       "\"not close enough!\""
      ]
     },
     "execution_count": 4,
     "metadata": {},
     "output_type": "execute_result"
    }
   ],
   "source": [
    "check_mean(1)"
   ]
  },
  {
   "cell_type": "code",
   "execution_count": 5,
   "metadata": {},
   "outputs": [
    {
     "data": {
      "text/plain": [
       "\"not close enough!\""
      ]
     },
     "execution_count": 5,
     "metadata": {},
     "output_type": "execute_result"
    }
   ],
   "source": [
    "check_var(1)"
   ]
  },
  {
   "cell_type": "markdown",
   "metadata": {},
   "source": [
    "---\n",
    "\n",
    "A **statistical functional** is any function $T$ from the set of distributions to $[-\\infty,\\infty]$. An **estimator** $\\widehat{\\theta}$ is a random variable defined in terms of $n$ i.i.d. random variables, the purpose of which is to approximate some statistical functional of the random variables’ common distribution. \n",
    "\n",
    "*Example: Suppose that $T(\\nu)$ = the mean of $\\nu$, and that $\\widehat{\\theta} = \\frac{(X_1 + \\cdots + X_n)}{n}$.*"
   ]
  },
  {
   "cell_type": "markdown",
   "metadata": {},
   "source": [
    "## Problem 2\n",
    "\n",
    "(a) Suppose that $X$ is an integer-valued random variable, and that $T$ is defined to the units digit of $X$. Is $T$ a statistical functional? \n",
    "\n",
    "(b) Suppose that for any probability measure $\\nu$ on the plane, $T(\\nu)$ is defined to be the expected squared distance between two points drawn independently from $\\nu$. Is $T$ a statistical functional? Is $\\widehat{\\theta}(\\mathbf{X}_1, \\ldots, \\mathbf{X}_n) = |\\mathbf{X}_1|$ an estimator of $T$?\n",
    "\n",
    "(c) Come up with your own statistical functional (unique enough that it can't be boiled down to a single word). "
   ]
  },
  {
   "cell_type": "markdown",
   "metadata": {},
   "source": [
    "---\n",
    "\n",
    "## Problem 4\n",
    "\n",
    "The **empirical measure** associated with a given set of observations is the discrete probability measure which assigns a probability mass of $\\frac{1}{n}$ to the location of each of the observations in the sample. \n",
    "\n",
    "The **plug-in estimator** of a statistical functional $T$ is the random variable $T(\\widehat{\\nu})$, where $\\widehat{\\nu}$ is the empirical measure. \n",
    "\n",
    "(a) Is the empirical measure random (in other words, if we collected a fresh set of observations, would we get the same measure)? Is the underlying probability measure used to generation the observations random?  \n",
    "(b) Why is the empirical measure useless when it comes to estimating the conditional expectation of $Y$ given $X$, assuming that the joint distribution of $X$ and $Y$ is represented by a density function?  \n",
    "(c) Is the sample mean a plug-in estimator?"
   ]
  },
  {
   "cell_type": "markdown",
   "metadata": {},
   "source": [
    "---\n",
    "\n",
    "### Bias\n",
    "\n",
    "Given a distribution $\\nu$ and a statistical functional $T$, let $\\theta = T(\\nu)$. The **bias** of an estimator of $\\theta$ is the difference between the estimator’s expected value and $\\theta$.\n",
    "\n",
    "*Example: The expectation of the sample mean $\\widehat{\\theta} = \\frac{(X_1 + \\cdots + X_n)}{n}$ is $\\frac{\\mathbb{E}(X_1 + \\cdots + X_n)}{n} = \\mathbb{E}[\\nu],$ so the bias of the sample mean is zero.*"
   ]
  },
  {
   "cell_type": "markdown",
   "metadata": {},
   "source": [
    "## Problem 5\n",
    "\n",
    "Compute the sample mean for five observations from the uniform distribution on $[0,1]$. Repeat a million times and make a histogram of the resulting million sample mean values. Does the sample mean appear to be unbiased?"
   ]
  },
  {
   "cell_type": "markdown",
   "metadata": {},
   "source": [
    "## Problem 6\n",
    "\n",
    "Compute the sample maximum (that is, the plug-in estimator for the distribution maximum) for five observations from the uniform distribution on $[0,1]$. Repeat a million times and make a histogram of the resulting million sample maximum values. Does the sample mean appear to be unbiased?"
   ]
  },
  {
   "cell_type": "markdown",
   "metadata": {},
   "source": [
    "The **standard error** of an estimator is its standard deviation.  "
   ]
  },
  {
   "cell_type": "markdown",
   "metadata": {},
   "source": [
    "## Problem 7\n",
    "\n",
    "Estimate the standard error of the sample maximum estimator (same as the previous problem: five observations from the uniform distribution on [0,1]). "
   ]
  },
  {
   "cell_type": "code",
   "execution_count": 6,
   "metadata": {},
   "outputs": [
    {
     "data": {
      "text/plain": [
       "\"not close enough!\""
      ]
     },
     "execution_count": 6,
     "metadata": {},
     "output_type": "execute_result"
    }
   ],
   "source": [
    "check_var_sample_max(0.01)"
   ]
  },
  {
   "cell_type": "markdown",
   "metadata": {},
   "source": [
    "An estimator is **consistent** if $\\widehat{\\theta} \\to \\theta$ in probability as $n\\to\\infty$. This happens if and only if both the bias and the standard error go to zero as $n\\to\\infty$."
   ]
  },
  {
   "cell_type": "markdown",
   "metadata": {},
   "source": [
    "---\n",
    "# Confidence Intervals"
   ]
  },
  {
   "cell_type": "markdown",
   "metadata": {},
   "source": [
    "## Problem 8\n",
    "\n",
    "(a) Approximate the mean of the distribution which generated the values stored in the vector `mysample`. "
   ]
  },
  {
   "cell_type": "code",
   "execution_count": 7,
   "metadata": {},
   "outputs": [
    {
     "data": {
      "text/plain": [
       "10-element Array{Float64,1}:\n",
       " -0.3158449050816192\n",
       "  1.0231649888798504\n",
       "  1.9117770902002116\n",
       "  2.504598442341676 \n",
       "  4.968809090699897 \n",
       " -2.4899557184464394\n",
       "  3.0741347708680196\n",
       "  5.148240637619786 \n",
       "  2.101505157727294 \n",
       "  1.3321877268998883"
      ]
     },
     "execution_count": 7,
     "metadata": {},
     "output_type": "execute_result"
    }
   ],
   "source": [
    "mysample"
   ]
  },
  {
   "cell_type": "markdown",
   "metadata": {},
   "source": [
    "(b) If one were to propose that the mean of the underlying distribution that generated these data is 2, would you find that implausible? How about 6?"
   ]
  },
  {
   "cell_type": "markdown",
   "metadata": {},
   "source": [
    "---\n",
    "\n",
    "**Confidence intervals** are estimators with error bars. In other words, rather than returning a single value as our estimator, we return an entire interval together with a confidence level $1-\\alpha$. We're saying that the probability that that interval traps the true value of the statistical functional is at least $1-\\alpha$.\n"
   ]
  },
  {
   "cell_type": "markdown",
   "metadata": {},
   "source": [
    "## Problem 9\n",
    "\n",
    "The distribution that the entries of `mysample` were drawn from is normal with unknown mean $\\mu$ and variance $\\sigma^2$. The distribution of the sample mean is therefore also normal. Use this information find a 95% confidence interval for the mean $\\mu$."
   ]
  },
  {
   "cell_type": "code",
   "execution_count": 8,
   "metadata": {},
   "outputs": [
    {
     "data": {
      "text/plain": [
       "10-element Array{Float64,1}:\n",
       " -0.3158449050816192\n",
       "  1.0231649888798504\n",
       "  1.9117770902002116\n",
       "  2.504598442341676 \n",
       "  4.968809090699897 \n",
       " -2.4899557184464394\n",
       "  3.0741347708680196\n",
       "  5.148240637619786 \n",
       "  2.101505157727294 \n",
       "  1.3321877268998883"
      ]
     },
     "execution_count": 8,
     "metadata": {},
     "output_type": "execute_result"
    }
   ],
   "source": [
    "mysample"
   ]
  },
  {
   "cell_type": "code",
   "execution_count": 9,
   "metadata": {},
   "outputs": [
    {
     "data": {
      "text/plain": [
       "(1.9258617281708563, 2.285698852959919)"
      ]
     },
     "execution_count": 9,
     "metadata": {},
     "output_type": "execute_result"
    }
   ],
   "source": [
    "mean(mysample), std(mysample)"
   ]
  },
  {
   "cell_type": "markdown",
   "metadata": {},
   "source": [
    "---\n",
    "\n",
    "## Problem 10\n",
    "\n",
    "Write a function which accepts a vector as an argument, returns a 95\\% confidence interval for the mean of the distribution that the observations in the vector were drawn from (using the normal approximation). Run the function `traps_mean` several times to see whether your confidence interval does trap the true mean about 95% of the time."
   ]
  },
  {
   "cell_type": "code",
   "execution_count": 10,
   "metadata": {},
   "outputs": [
    {
     "data": {
      "text/plain": [
       "confidence_interval_mean (generic function with 1 method)"
      ]
     },
     "execution_count": 10,
     "metadata": {},
     "output_type": "execute_result"
    }
   ],
   "source": [
    "function confidence_interval_mean(X)\n",
    "    # ADD CODE HERE\n",
    "end"
   ]
  },
  {
   "cell_type": "code",
   "execution_count": 11,
   "metadata": {},
   "outputs": [
    {
     "name": "stdout",
     "output_type": "stream",
     "text": [
      "X is [-4.46, -6.1, -7.38, -7.09, -6.43]\n"
     ]
    },
    {
     "ename": "ArgumentError",
     "evalue": "ArgumentError: `nothing` should not be printed; use `show`, `repr`, or custom output instead.",
     "output_type": "error",
     "traceback": [
      "ArgumentError: `nothing` should not be printed; use `show`, `repr`, or custom output instead.",
      "",
      "Stacktrace:",
      " [1] print(::Base.GenericIOBuffer{Array{UInt8,1}}, ::Nothing) at ./show.jl:587",
      " [2] print_to_string(::String, ::Vararg{Any,N} where N) at ./strings/io.jl:129",
      " [3] string at ./strings/io.jl:168 [inlined]",
      " [4] traps_mean(::typeof(confidence_interval_mean)) at ./none:19",
      " [5] top-level scope at In[11]:1"
     ]
    }
   ],
   "source": [
    "traps_mean(confidence_interval_mean)"
   ]
  },
  {
   "cell_type": "markdown",
   "metadata": {},
   "source": [
    "---\n",
    "\n",
    "## Problem 11\n",
    "\n",
    "Write a function which accepts a vector as an argument, returns a 95\\% confidence interval for the maximum of the distribution that the observations in the vector were drawn from (using the assumption that the distribution is uniform on $[0,b]$ for some unknown $b$.). Run the function `traps_max` several times to see whether your confidence interval does trap the true mean about 95% of the time."
   ]
  },
  {
   "cell_type": "code",
   "execution_count": 12,
   "metadata": {},
   "outputs": [
    {
     "data": {
      "text/plain": [
       "confidence_interval_max (generic function with 1 method)"
      ]
     },
     "execution_count": 12,
     "metadata": {},
     "output_type": "execute_result"
    }
   ],
   "source": [
    "function confidence_interval_max(X)\n",
    "    # ADD CODE HERE\n",
    "end"
   ]
  },
  {
   "cell_type": "code",
   "execution_count": 13,
   "metadata": {},
   "outputs": [
    {
     "name": "stdout",
     "output_type": "stream",
     "text": [
      "X is [2.62, 5.66, 0.08, 2.18, 6.4, 0.46, 7.19, 0.8, 1.42, 1.87, 4.75]\n"
     ]
    },
    {
     "ename": "ArgumentError",
     "evalue": "ArgumentError: `nothing` should not be printed; use `show`, `repr`, or custom output instead.",
     "output_type": "error",
     "traceback": [
      "ArgumentError: `nothing` should not be printed; use `show`, `repr`, or custom output instead.",
      "",
      "Stacktrace:",
      " [1] print(::Base.GenericIOBuffer{Array{UInt8,1}}, ::Nothing) at ./show.jl:587",
      " [2] print_to_string(::String, ::Vararg{Any,N} where N) at ./strings/io.jl:129",
      " [3] string at ./strings/io.jl:168 [inlined]",
      " [4] traps_max(::typeof(confidence_interval_max)) at ./none:38",
      " [5] top-level scope at In[13]:1"
     ]
    }
   ],
   "source": [
    "traps_max(confidence_interval_max)"
   ]
  },
  {
   "cell_type": "code",
   "execution_count": null,
   "metadata": {},
   "outputs": [],
   "source": []
  }
 ],
 "metadata": {
  "kernelspec": {
   "display_name": "Julia 1.2.0",
   "language": "julia",
   "name": "julia-1.2"
  },
  "language_info": {
   "file_extension": ".jl",
   "mimetype": "application/julia",
   "name": "julia",
   "version": "1.2.0"
  }
 },
 "nbformat": 4,
 "nbformat_minor": 4
}
