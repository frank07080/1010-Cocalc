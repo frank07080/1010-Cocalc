{
 "cells": [
  {
   "cell_type": "markdown",
   "metadata": {},
   "source": [
    "## Conditional Probability\n",
    "\n",
    "#### *25 September 2019*\n",
    "#### *DATA 1010*\n",
    "\n",
    "We continue our review of probability theory. Today's topics include: independence, variance, Bayes' theorem and conditional expectation."
   ]
  },
  {
   "cell_type": "markdown",
   "metadata": {},
   "source": [
    "![](images/0.PNG)"
   ]
  },
  {
   "cell_type": "markdown",
   "metadata": {},
   "source": [
    "![](images/0a.PNG)"
   ]
  },
  {
   "cell_type": "markdown",
   "metadata": {},
   "source": [
    "Note: If X and Y are independent, X can take values on 0, 1, 2, and so can Y. There are a total of 9 possibilities. If X and Y are independent, consider them as sequence of events. Then, for X and Y to be 0, each takes 1/4 of probability. Thus the joint probability of X=Y=0 is 1/16."
   ]
  },
  {
   "cell_type": "markdown",
   "metadata": {},
   "source": [
    "![](images/0b.PNG)"
   ]
  },
  {
   "cell_type": "markdown",
   "metadata": {},
   "source": [
    "## Independence and variance  "
   ]
  },
  {
   "cell_type": "markdown",
   "metadata": {},
   "source": [
    "### Problem 1   \n",
    " \n",
    "Suppose that $X_1, \\ldots, X_n$ are independent random variables with the same distribution. Find the mean and variance of \n",
    "$$\\frac{X_1 + \\cdots + X_n}{n}$$"
   ]
  },
  {
   "cell_type": "code",
   "execution_count": 1,
   "metadata": {},
   "outputs": [
    {
     "data": {
      "text/plain": [
       "100-element Array{Float64,1}:\n",
       " 1.4655097966088284  \n",
       " 0.013250842488430286\n",
       " 1.6094203395158782  \n",
       " 1.5643613690457656  \n",
       " 0.9491064452452656  \n",
       " 2.202982566026309   \n",
       " 1.494785213157604   \n",
       " 0.2655132194281573  \n",
       " 1.6773171750997042  \n",
       " 1.628021148043729   \n",
       " 0.3421406074463508  \n",
       " 1.3056563395980108  \n",
       " 2.4367358226314817  \n",
       " ⋮                   \n",
       " 0.6310031965310358  \n",
       " 1.7180027365842552  \n",
       " 1.272117852028623   \n",
       " 1.4760981203544887  \n",
       " 0.28208974632566247 \n",
       " 1.171017830828369   \n",
       " 0.4909047857584042  \n",
       " 0.20493172613814067 \n",
       " 0.15414451871904328 \n",
       " 2.167040731558729   \n",
       " 2.0160574416727406  \n",
       " 1.5103577259830594  "
      ]
     },
     "execution_count": 1,
     "metadata": {},
     "output_type": "execute_result"
    }
   ],
   "source": [
    "using Distributions\n",
    "rand(Exponential(1),100)"
   ]
  },
  {
   "cell_type": "code",
   "execution_count": 2,
   "metadata": {},
   "outputs": [
    {
     "data": {
      "text/plain": [
       "1.01790436074049"
      ]
     },
     "execution_count": 2,
     "metadata": {},
     "output_type": "execute_result"
    }
   ],
   "source": [
    "mean(rand(Exponential(1),1000))"
   ]
  },
  {
   "cell_type": "markdown",
   "metadata": {},
   "source": [
    "![](images/1.PNG)"
   ]
  },
  {
   "cell_type": "markdown",
   "metadata": {},
   "source": [
    "*Solution: (expectation linearity does not relate to independence)*  \n",
    "$$\n",
    "E[\\frac{X_1 + \\cdots + X_n}{n}] = \\frac{E[X_1] + \\cdots + E[X_n]}{n} = \\frac{nE[X_1]}{n} = E[X_1]\n",
    "$$  \n",
    "$$\n",
    "Var[\\frac{X_1 + \\cdots + X_n}{n}] = \\frac{Var[X_1] + \\cdots + Var[X_n]}{n^2} = \\frac{nVar{X_1}}{n^2} = \\frac{Var(X_1)}{n}\n",
    "$$"
   ]
  },
  {
   "cell_type": "markdown",
   "metadata": {},
   "source": [
    "---\n",
    "\n",
    "## Bayes' Theorem"
   ]
  },
  {
   "cell_type": "markdown",
   "metadata": {},
   "source": [
    "![](images/1a.PNG)"
   ]
  },
  {
   "cell_type": "markdown",
   "metadata": {},
   "source": [
    "### Problem 2\n",
    "\n",
    "Assume that the prevalance of a disease in a population is 3%. The *true positive rate* for a pathological test, i.e. the probability of a positive test result for an individual carrying the disease, is 98%. The *false positive rate*, i.e. the probability of a positive test result for an individual without the disease, is 4%. What is the likelihood of an individual having the disease if he/she tested positive twice?\n",
    "\n",
    "*Hint:* Consider the two tests independent."
   ]
  },
  {
   "cell_type": "markdown",
   "metadata": {},
   "source": [
    "![](images/2.PNG)"
   ]
  },
  {
   "cell_type": "markdown",
   "metadata": {},
   "source": [
    "*Solution:*  \n",
    "$$\n",
    "P[D|positive twice] = \\frac{P[positive twice|D] * P[D]}{P[positive twice]} = \\frac{0.03 * 0.98 * 0.98}{0.03 * 0.98 * 0.98 + 0.97 * 0.04 * 0.04} = 0.949\n",
    "$$"
   ]
  },
  {
   "cell_type": "markdown",
   "metadata": {},
   "source": [
    "---\n",
    "\n",
    "## Conditional expectation "
   ]
  },
  {
   "cell_type": "markdown",
   "metadata": {},
   "source": [
    "<img src=\"925_2_1.png\" alt=\"p\" width=\"200\" align=right>\n",
    "\n",
    "### Problem 3  \n",
    "  \n",
    "Consider a pair of random variables $X$ and $Y$ with joint distribution $m$, where $m$ is the probability mass function shown. Find the conditional distribution of $Y$ given $X = x$ for each value of $x$.  "
   ]
  },
  {
   "cell_type": "markdown",
   "metadata": {},
   "source": [
    "![](images/3.PNG)"
   ]
  },
  {
   "cell_type": "markdown",
   "metadata": {},
   "source": [
    "*Solution:*  \n",
    "$$\n",
    "Distribution[Y | X=x] = Unif(0,..,x)\n",
    "$$  \n",
    "$$\n",
    "E[Y|X] = \\frac{x}{2}\n",
    "$$"
   ]
  },
  {
   "cell_type": "markdown",
   "metadata": {},
   "source": [
    "---\n",
    "\n",
    "<img src=\"925_4_1.png\" alt=\"p\" width=\"500\" align=right> \n",
    "\n",
    "### Problem 4\n",
    "\n",
    "Given that $X$ and $Y$ have joint PDF $f(x,y) = \\frac{3}{2}(x^2 +y^2)$ on $[0,1]^2$, find the conditional expectation of $Y$ given $X$.\n",
    "    \n",
    "*Hint:* Begin by sketching an estimate of the conditional expectation on the graph shown."
   ]
  },
  {
   "cell_type": "markdown",
   "metadata": {},
   "source": [
    "![](images/4.PNG)"
   ]
  },
  {
   "cell_type": "code",
   "execution_count": 5,
   "metadata": {},
   "outputs": [
    {
     "data": {
      "text/latex": [
       "\\begin{equation*}\\frac{3 \\left(2 x^{2} + 1\\right)}{4 \\left(3 x^{2} + 1\\right)}\\end{equation*}"
      ],
      "text/plain": [
       "  ⎛   2    ⎞\n",
       "3⋅⎝2⋅x  + 1⎠\n",
       "────────────\n",
       "  ⎛   2    ⎞\n",
       "4⋅⎝3⋅x  + 1⎠"
      ]
     },
     "execution_count": 5,
     "metadata": {},
     "output_type": "execute_result"
    }
   ],
   "source": [
    "using SymPy\n",
    "@vars x y\n",
    "f_XY = 3(x^2+y^2)/2\n",
    "f_X = integrate(f_XY, (y,0,1)) # marginal of x\n",
    "simplify(integrate(y * f_XY / f_X, (y,0,1))) # conditional expectation = y * conditional density of y"
   ]
  },
  {
   "cell_type": "markdown",
   "metadata": {},
   "source": [
    "*Solution:*  \n",
    "$$\n",
    "Answer: \\frac{6x^2 + 3}{12x^2 + 4} - 从左往右是从大到小的\n",
    "$$\n"
   ]
  },
  {
   "cell_type": "markdown",
   "metadata": {},
   "source": [
    "![](images/4a.PNG)"
   ]
  },
  {
   "cell_type": "markdown",
   "metadata": {},
   "source": [
    "---\n",
    "\n",
    "<img src=\"925_5_1.png\" alt=\"p\" width=\"500\" align=right>\n",
    "\n",
    "### Problem 5   \n",
    "\n",
    "Given that $X$ and $Y$ have joint PDF shown in the figure, sketch an estimate of the conditional expectation of $Y$ given $X = x$."
   ]
  },
  {
   "cell_type": "markdown",
   "metadata": {},
   "source": [
    "![](images/5.PNG)"
   ]
  },
  {
   "cell_type": "markdown",
   "metadata": {},
   "source": [
    "---\n",
    "\n",
    "<img src=\"925_6_1.png\" alt=\"p\" width=\"200\" align=right>   \n",
    "\n",
    "### Problem 6   \n",
    "\n",
    "Given that $X$ and $Y$ have joint PDF $f(x,y) = \\frac{9}{5}(1-\\sqrt{xy})$ on $[0,1]^2$, find the conditional expectation of $Y$ given $X$.\n",
    "\n",
    "*Hint:* Begin by sketching an estimate of the conditional expectation on the graph shown."
   ]
  },
  {
   "cell_type": "code",
   "execution_count": 6,
   "metadata": {},
   "outputs": [
    {
     "data": {
      "text/latex": [
       "\\begin{equation*}\\frac{3 \\left(4 \\sqrt{x} - 5\\right)}{10 \\left(2 \\sqrt{x} - 3\\right)}\\end{equation*}"
      ],
      "text/plain": [
       " 3⋅(4⋅√x - 5)\n",
       "─────────────\n",
       "10⋅(2⋅√x - 3)"
      ]
     },
     "execution_count": 6,
     "metadata": {},
     "output_type": "execute_result"
    }
   ],
   "source": [
    "f_XY = 9(1-sqrt(x*y))/5\n",
    "f_X = integrate(f_XY, (y,0,1))\n",
    "simplify(integrate(y * f_XY / f_X, (y,0,1)))"
   ]
  },
  {
   "cell_type": "markdown",
   "metadata": {},
   "source": [
    "![](images/6.PNG)"
   ]
  },
  {
   "cell_type": "markdown",
   "metadata": {},
   "source": [
    "---\n",
    "\n",
    "### Challenge Problem\n",
    "\n",
    "Imagine yourself working as a recruiter for a major tech company. You are tasked with finding the best candidate to fill a vacancy in a data scientist role. You have $n$ applicants to interview, one at a time, in a random order. However, you must make acceptance/rejection decisions immediately after each interview. Out of $n$ candidates, how many should you interview, before making an offer? You may assume that all candidates for the positon can be ranked unambigously from best to worst.\n",
    "\n",
    "- *Hint 1:* Consider that if you interview all candidates, then you must hire the last candidate regardless of their rank. Assume that you reject first $r-1$ candidates, and then select the next candidate that performs better than these $r-1$ candidate. Write down probability $\\mathbb{P}(r)$ for this interview policy.\n",
    "- *Hint 2:* Since candidates are randomly ordered, each candidate is equally likely to be the best hire for the role.\n",
    "- *Hint 3:* $\\mathbb{P}(r) = \\sum_{i=1}^n \\mathbb{P}(\\text{candidate i is selected|candidate i is the best})\\times\\mathbb{P}(\\text{candidate i is the best})$\n",
    "- *Hint 4:* You must approximate the sum as an integral to obtain a solution in terms of $r$ and $n$\n",
    "- *Hint 5:* For various values of $n$, find the optimal value of $r$ using Julia\n",
    "- *Hint 6*: Plot $\\mathbb{P}(r)$ vs. $n$ for optimal values of $r$. What do these values converge to? "
   ]
  },
  {
   "cell_type": "code",
   "execution_count": null,
   "metadata": {},
   "outputs": [],
   "source": []
  }
 ],
 "metadata": {
  "kernelspec": {
   "display_name": "Julia 1.2.0",
   "language": "julia",
   "name": "julia-1.2"
  },
  "language_info": {
   "file_extension": ".jl",
   "mimetype": "application/julia",
   "name": "julia",
   "version": "1.2.0"
  }
 },
 "nbformat": 4,
 "nbformat_minor": 4
}
