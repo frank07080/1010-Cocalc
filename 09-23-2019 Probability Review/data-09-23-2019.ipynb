{
 "cells": [
  {
   "cell_type": "markdown",
   "metadata": {},
   "source": [
    "## Probability Review\n",
    "\n",
    "#### *23 September 2019*\n",
    "#### *DATA 1010*\n",
    "\n",
    "We review fundamental concepts in probability, including: probability spaces, independence and conditional probability, expectation, and covariance. Note that there are way too many probabilty space questions and we cover this material in few days of lectures. The following problems do not make an exhaustive list."
   ]
  },
  {
   "cell_type": "markdown",
   "metadata": {},
   "source": [
    "![](images/0.PNG)"
   ]
  },
  {
   "cell_type": "markdown",
   "metadata": {},
   "source": [
    "## Probability Space"
   ]
  },
  {
   "cell_type": "markdown",
   "metadata": {},
   "source": [
    "### Problem 1   \n",
    "\n",
    "Let\n",
    "  $\\Omega = \\{(\\texttt{H},\\texttt{H}), (\\texttt{H},\\texttt{T}),\n",
    "  (\\texttt{T},\\texttt{H}), (\\texttt{T},\\texttt{T})\\},$ and let\n",
    "  $m(\\omega)=\\frac{1}{4}$ for each $\\omega \\in \\Omega$.\n",
    "  \n",
    "  Identify a mathematical object in the model $(\\Omega, m)$ which can\n",
    "  be said to correspond to the phrase 'the first flip turns up\n",
    "  heads'. Which of the following is true of this object?   \n",
    "  \n",
    "(i) It is one of the values of the function $m$   \n",
    "(ii) It is the set $\\Omega$   \n",
    "(iii) It is a subset of $\\Omega$   \n",
    "(iv) It is one of the elements of $\\Omega$"
   ]
  },
  {
   "cell_type": "markdown",
   "metadata": {},
   "source": [
    "![](images/1.PNG)"
   ]
  },
  {
   "cell_type": "markdown",
   "metadata": {},
   "source": [
    "---\n",
    "\n",
    "### Problem 2\n",
    "\n",
    "Explain how to obtain the probability of an event from the probability mass function.\n",
    "\n",
    "For concreteness, consider $\\Omega = \\{(\\texttt{H},\\texttt{H}), (\\texttt{H},\\texttt{T}), (\\texttt{T},\\texttt{H}), (\\texttt{T},\\texttt{T})\\}$, a probability mass function which assigns mass $\\frac{1}{4}$ to each outcome, and the event $\\{(\\texttt{H},\\texttt{H}), (\\texttt{H},\\texttt{T})\\}$."
   ]
  },
  {
   "cell_type": "markdown",
   "metadata": {},
   "source": [
    "![](images/2.PNG)"
   ]
  },
  {
   "cell_type": "markdown",
   "metadata": {},
   "source": [
    "---\n",
    "\n",
    "### Problem 3\n",
    "\n",
    "Match each term to its corresponding set-theoretic operation. Assume that $E$ and $F$ are events.\n",
    "\n",
    "For concreteness, you can think about the events 'first flip comes up heads' and 'second flip comes up heads' for the two-flip probability space we've been considering.\n",
    "\n",
    "| | |\n",
    "|---------------------------------------------------|--------------------------------------|\n",
    "| (a) the event that $E$ and $F$ both occur          | (i) the intersection $E \\cap F$       |\n",
    "| (b) the event that $E$ does not occur              | (ii) the union $E \\cup F$             |\n",
    "| (c) the event that either $E$ occurs or $F$ occurs | (iii) the complement $E^{\\mathsf{c}}$ |"
   ]
  },
  {
   "cell_type": "markdown",
   "metadata": {},
   "source": [
    "![](images/3.PNG)"
   ]
  },
  {
   "cell_type": "markdown",
   "metadata": {},
   "source": [
    "---\n",
    "\n",
    "### Problem 4  \n",
    "\n",
    "Suppose a group of $n$ friends enter the lottery. For $i \\in \\{1, \\dots , n\\}$ let $E_i$ be the event that the $i$th friend wins. Express the following events using set notation. \n",
    "\n",
    "(1) At least one friend loses.   \n",
    "(2) All friends win.   \n",
    "(3) At least one friend wins."
   ]
  },
  {
   "cell_type": "markdown",
   "metadata": {},
   "source": [
    "![](images/4.PNG)"
   ]
  },
  {
   "cell_type": "markdown",
   "metadata": {},
   "source": [
    "---\n",
    "\n",
    "### Problem 5   \n",
    "\n",
    "What is the cardinality of the domain of the function $\\mathbb{P}$ if\n",
    "$$ \\Omega = \\{(\\texttt{H},\\texttt{H}), (\\texttt{H},\\texttt{T}), (\\texttt{T},\\texttt{H}), (\\texttt{T},\\texttt{T})\\}? $$"
   ]
  },
  {
   "cell_type": "markdown",
   "metadata": {},
   "source": [
    "![](images/5.PNG)"
   ]
  },
  {
   "cell_type": "markdown",
   "metadata": {},
   "source": [
    "---\n",
    "\n",
    "### Problem 6   \n",
    "\n",
    "Consider events $A$ and $B$ where the occurrence of $A$ implies the occurrence of $B$. For example, suppose $A$ is the event that the Red Sox outscore the Yankees by 5 runs or more, and let $B$ be the event that the Red Sox win the game. Which of the following is the set-theoretic relationship between the events $A$ and $B$? \n",
    "\n",
    "(a) $A \\cap B = \\emptyset$   \n",
    "(b) $A \\subset B$  \n",
    "(c) $B \\subset A$"
   ]
  },
  {
   "cell_type": "markdown",
   "metadata": {},
   "source": [
    "![](images/6.PNG)"
   ]
  },
  {
   "cell_type": "markdown",
   "metadata": {},
   "source": [
    "---\n",
    "\n",
    "### Problem 7   \n",
    "\n",
    "Use the additivity property and the fact that $A = (A \\cap B) \\cup (A \\cap B^{\\mathsf{c}})$ to show that if $B \\subset A \\subset \\Omega,$ then $\\mathbb{P}(B) \\leq \\mathbb{P}(A)$"
   ]
  },
  {
   "cell_type": "markdown",
   "metadata": {},
   "source": [
    "![](images/7.PNG)"
   ]
  },
  {
   "cell_type": "markdown",
   "metadata": {},
   "source": [
    "---\n",
    "\n",
    "### Problem 8   \n",
    "\n",
    "Show that $\\mathbb{P}(A \\cup B) \\leq \\mathbb{P}(A) + \\mathbb{P}(B)$ for all events $A$ and $B$.\n",
    "\n",
    "\n",
    "Use this property to show that if $A$ occurs with probability zero and $B$ occurs with probability zero, then the probability that $A$ *or* $B$ occurs is also zero."
   ]
  },
  {
   "cell_type": "markdown",
   "metadata": {},
   "source": [
    "![](images/8.PNG)"
   ]
  },
  {
   "cell_type": "markdown",
   "metadata": {},
   "source": [
    "---\n",
    "\n",
    "## Random Variable, Distribution, and Expectation   "
   ]
  },
  {
   "cell_type": "markdown",
   "metadata": {},
   "source": [
    "![](images/8.5.PNG)"
   ]
  },
  {
   "cell_type": "markdown",
   "metadata": {},
   "source": [
    "### Problem 9 \n",
    "\n",
    "Find the expected value of $X + Y$, where $X$ and $Y$ are independent random variables whose distributions have constant probability mass functions on $\\{0,1,2,3\\}$. What is the relationship between $\\mathbb{E}[X + Y], \\mathbb{E}[X], $ and $\\mathbb{E}[Y]$? "
   ]
  },
  {
   "cell_type": "markdown",
   "metadata": {},
   "source": [
    "![](images/9.PNG)"
   ]
  },
  {
   "cell_type": "markdown",
   "metadata": {},
   "source": [
    "---\n",
    "\n",
    "### Problem 10\n",
    "\n",
    "Consider a uniformly random permutation of the integers $\\{1,2,3,4\\}$. Let $X$ be 3 if the first two numbers are 1 and 2, and let it be 2 otherwise. Let $Y$ be 6 if the second and third numbers are 2 and 3; let it be 4 if the second number is 2 and the third number is not 3; and let it be 0 if the second number is not 2.\n",
    "\n",
    "Find $\\mathbb{E}[X+Y], \\mathbb{E}[X],$ and $\\mathbb{E}[Y]$."
   ]
  },
  {
   "cell_type": "markdown",
   "metadata": {},
   "source": [
    "![](images/10.PNG)"
   ]
  },
  {
   "cell_type": "markdown",
   "metadata": {},
   "source": [
    "---\n",
    "\n",
    "### Bonus Problem\n",
    "\n",
    "How many consecutive pairs of red cards does a well shuffled deck have on average?"
   ]
  },
  {
   "cell_type": "markdown",
   "metadata": {},
   "source": [
    "![](images/10.5.PNG)"
   ]
  },
  {
   "cell_type": "markdown",
   "metadata": {},
   "source": [
    "---\n",
    "\n",
    "### Problem 11 - Expectation calculation\n",
    "\n",
    "Consider two unfair coins: the first has probability $\\frac{3}{5}$ of coming up heads, and the second has probability $\\frac{1}{3}$ of coming up heads. We define $X$ to be 2 if the first coin is heads and $-1$ otherwise, and we define $Y$ to be 1 if the first coin is tails and the second coin is heads, and 2 otherwise.\n",
    "\n",
    "Show that $\\mathbb{E}[X+Y] = \\mathbb{E}[X] + \\mathbb{E}[Y]$. "
   ]
  },
  {
   "cell_type": "markdown",
   "metadata": {},
   "source": [
    "*Solution:*  \n",
    "There are a total of four events: {HH, HT, TH, TT} with respective prob. List them all and get:  \n",
    "X is 2 with prob 3/5, -1 with prob 2/5. Y is 1 with prob 2/5(1/3), 2 with prob 1-(2/5)(1/3).  \n",
    "Therefore $\\mathbb{E}[X] = 2(\\frac{3}{5}) - \\frac{2}{5} = \\frac{4}{5}$  \n",
    "$\\mathbb{E}[Y] = (\\frac{2}{5})(\\frac{1}{3}) + 2*(1-(\\frac{2}{5})(\\frac{1}{3})) = \\frac{28}{15}$  \n",
    "$\\mathbb{E}[X] + \\mathbb{E}[Y] = \\frac{8}{3}$  \n",
    "$\\mathbb{E}[X+Y] = 3 * 0 + 4 * (\\frac{3}{5}\\frac{2}{3} + \\frac{3}{5}\\frac{1}{3}) + 0 + 1 * (\\frac{2}{5}\\frac{2}{3}) = \\frac{8}{3}$"
   ]
  },
  {
   "cell_type": "markdown",
   "metadata": {},
   "source": [
    "---\n",
    "\n",
    "### Problem 12 - Expectation and RV independence\n",
    "\n",
    "Suppose a fair coin is flipped and a fair die is rolled. We let $X$ be 1 or 2 if the coin turns up tails or heads, respectively, and we let $Y$ be the value of the die roll.\n",
    "\n",
    "(a) Calculate $\\mathbb{E}[XY]$ as well as $\\mathbb{E}[X]$ and $\\mathbb{E}[Y]$. What is the relationship between these three? \n",
    "\n",
    "(b) Suppose that $X$ is equal to 1 with probability $\\frac{1}{2}$ and $-1$ with probability $\\frac{1}{2}$. Suppose also that $Y = X$. Is it true that $\\mathbb{E}[XY] = \\mathbb{E}[X]\\mathbb{E}[Y]$?"
   ]
  },
  {
   "cell_type": "markdown",
   "metadata": {},
   "source": [
    "*Solution:*  \n",
    "(a).  \n",
    "$\\mathbb{E}[X] = 0.5 + 2 * 0.5 = 1.5$  \n",
    "$\\mathbb{E}[Y] = (1+2+3+4+5+6) * \\frac{1}{6} = \\frac{21}{6}$  \n",
    "$\\mathbb{E}[X] * \\mathbb{E}[Y] = 5.25$  \n",
    "$\\mathbb{E}[XY] = (1+2+3+4+5+6)*1/12 + (2+4+6+8+10+12)*1/12 = 5.25$  \n",
    "Note that $\\mathbb{E}[XY] = \\mathbb{E}[X]\\mathbb{E}[Y]$ because X and Y are independent variables.  \n",
    "(b).  \n",
    "$\\mathbb{E}[X] = 0.5 * 1 + 0.5 * (-1) = 0$  \n",
    "$\\mathbb{E}[Y] = 0.5 * 1 + 0.5 * (-1) = 0$  \n",
    "$\\mathbb{E}[XY] = ?$"
   ]
  },
  {
   "cell_type": "markdown",
   "metadata": {},
   "source": [
    "---\n",
    "\n",
    "### Problem 13\n",
    "\n",
    "Find the expectation of a random variable whose density is the function f(x) = 2x on $[0, 1]$."
   ]
  },
  {
   "cell_type": "markdown",
   "metadata": {},
   "source": [
    "*Solution:*  \n",
    "$\\mathbb{E}(X) = \\int_0^1 x(2x) \\,dx= 2/3$"
   ]
  },
  {
   "cell_type": "markdown",
   "metadata": {},
   "source": [
    "---\n",
    "\n",
    "## Conditional Probability   "
   ]
  },
  {
   "cell_type": "markdown",
   "metadata": {},
   "source": [
    "### Problem 14\n",
    "\n",
    "Suppose you're 90% sure that your package was delivered today and 75% sure that if it was delivered it would be on your door step rather than tucked away in your mailbox. When you arrive at home and do not see your package right away, what is the conditional probability, given the observed information, that you'll find it in your mailbox?   "
   ]
  },
  {
   "cell_type": "markdown",
   "metadata": {},
   "source": [
    "![](images/14.PNG)"
   ]
  },
  {
   "cell_type": "markdown",
   "metadata": {},
   "source": [
    "---\n",
    "\n",
    "## Covariance & Independence    "
   ]
  },
  {
   "cell_type": "markdown",
   "metadata": {},
   "source": [
    "### Problem 15\n",
    "\n",
    "Does $\\operatorname{Cov}(X,Y) = 0$ imply that $X$ and $Y$ are independent?\n",
    "  \n",
    "*Hint:* Consider a random variable $X$ which is uniformly distributed on $\\{1,2,3\\}$ and an independent random variable $Z$ which is uniformly distributed on $\\{-1,1\\}$. Set $Y = ZX$. Consider the pair $(X,Y)$."
   ]
  },
  {
   "cell_type": "markdown",
   "metadata": {},
   "source": [
    "*Solution:*  \n",
    "$Cov(X, Y) = \\mathbb{E}[XY] - \\mathbb{E}[X]\\mathbb{E}[Y] = \\mathbb{E}[X^2Z] - \\mathbb{E}[X]\\mathbb{E}[ZX] = \\mathbb{E}[X^2]\\mathbb{E}[Z] - \\mathbb{E}[X]^2\\mathbb{E}[Z]$ (Use Linearity of X and Z, and persistence of Linearity)  \n",
    "$=\\mathbb{E}[X^2]*0 - \\mathbb{E}[X]^2*0 = 0$  \n",
    "But X and Y are not independent. For example, $\\mathbb{P}(X=2 and Y=1) = 0$ even though $\\mathbb{P}(X=2)$ and $\\mathbb{P}(Y=1)$ are both positive."
   ]
  },
  {
   "cell_type": "markdown",
   "metadata": {},
   "source": [
    "---\n",
    "\n",
    "### Problem 16\n",
    "\n",
    "Consider a pair of random variables $(X,Y)$ whose joint distribution is supported on $[0,1]^2$ with density $6x^2y$. Show that $X$ and $Y$ are independent. \n",
    "\n",
    "\n",
    "Now suppose the joint density is $\\frac{3}{2}(x^2 + y^2)$. Show that $X$ and $Y$ are not independent.  "
   ]
  },
  {
   "cell_type": "markdown",
   "metadata": {},
   "source": [
    "*Solution:*  \n",
    "The marginal of X is \n",
    "$$\\int_0^1 6x^2y^2 \\,dy= 3x^2$$  \n",
    "Similarly, the marginal of Y is \n",
    "$$\\int_0^1 6x^2y^2 \\,dx= 2y$$  \n",
    "Both are on [0,1]. Therefore $f_xf_y = 6x^2y$ that is the joint density of X and Y. Therefore independent."
   ]
  },
  {
   "cell_type": "code",
   "execution_count": null,
   "metadata": {},
   "outputs": [],
   "source": []
  }
 ],
 "metadata": {
  "kernelspec": {
   "display_name": "Julia 1.2.0",
   "language": "julia",
   "name": "julia-1.2"
  },
  "language_info": {
   "file_extension": ".jl",
   "mimetype": "application/julia",
   "name": "julia",
   "version": "1.2.0"
  }
 },
 "nbformat": 4,
 "nbformat_minor": 4
}
